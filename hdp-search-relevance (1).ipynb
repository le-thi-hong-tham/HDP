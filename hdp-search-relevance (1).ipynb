{
 "cells": [
  {
   "cell_type": "markdown",
   "id": "f0a0efb6",
   "metadata": {
    "papermill": {
     "duration": 0.076881,
     "end_time": "2022-01-08T03:54:18.005941",
     "exception": false,
     "start_time": "2022-01-08T03:54:17.929060",
     "status": "completed"
    },
    "tags": []
   },
   "source": [
    "# Tổng quan cuộc thi\n",
    "Cuộc thi này được tổ chức bởi Home Depot trên Kaggle.com. Home Depot muốn xây dựng một đề xuất tìm kiếm linh hoạt hơn để hỗ trợ hoạt động bán hàng trực tuyến của mình. Với việc đối sánh cụm từ tìm kiếm của khách hàng với thuộc tính / mô tả của sản phẩm, khách hàng sẽ dễ dàng tìm thấy đúng sản phẩm họ muốn hơn. Do đó, quá trình lựa chọn được cải thiện và khách hàng sẽ tìm được những sản phẩm phù hợp\n",
    "\n",
    "# Input:\n",
    "Gồm 4 tập dữ liệu csv (train, test, attributes, product_descriptions) chứa sản phẩm và cụm từ tìm kiếm thực tế của khách hàng từ trang web của Home Depot cùng với mức độ liên quan (relevance) đã được đánh giá bởi ít nhất ba chuyên gia đánh giá\n",
    "\n",
    "Relevance là một số thực từ 1 đến 3 (1 cho không liên quan và 3 cho kết hợp hoàn hảo)\n",
    "\n",
    "# Mục tiêu:\n",
    "Từ các tập dữ liệu được cung cấp, xây dựng mô hình để dự đoán mức độ phù hợp (relevance) cho từng cặp được liệt kê trong bộ dữ liệu test.csv\n",
    "\n",
    "# Output:\n",
    "File csv chứa id sản phẩm và mức độ liên quan (relevance)"
   ]
  },
  {
   "cell_type": "markdown",
   "id": "d0cd552c",
   "metadata": {
    "papermill": {
     "duration": 0.072938,
     "end_time": "2022-01-08T03:54:18.153502",
     "exception": false,
     "start_time": "2022-01-08T03:54:18.080564",
     "status": "completed"
    },
    "tags": []
   },
   "source": [
    "# Import Libraries"
   ]
  },
  {
   "cell_type": "code",
   "execution_count": 1,
   "id": "22ccee95",
   "metadata": {
    "execution": {
     "iopub.execute_input": "2022-01-08T03:54:18.324312Z",
     "iopub.status.busy": "2022-01-08T03:54:18.323455Z",
     "iopub.status.idle": "2022-01-08T03:54:20.332930Z",
     "shell.execute_reply": "2022-01-08T03:54:20.332155Z",
     "shell.execute_reply.started": "2022-01-08T02:25:26.321986Z"
    },
    "papermill": {
     "duration": 2.106717,
     "end_time": "2022-01-08T03:54:20.333103",
     "exception": false,
     "start_time": "2022-01-08T03:54:18.226386",
     "status": "completed"
    },
    "tags": []
   },
   "outputs": [],
   "source": [
    "import time\n",
    "start_time = time.time()\n",
    "\n",
    "import numpy as np # linear algebra\n",
    "import pandas as pd # data processing, CSV file I/O (e.g. pd.read_csv)\n",
    "from subprocess import check_output\n",
    "import os\n",
    "# Any results you write to the current directory are saved as output.\n",
    "import json\n",
    "import warnings; warnings.filterwarnings(\"ignore\");\n",
    "\n",
    "from sklearn.ensemble import RandomForestRegressor\n",
    "#from sklearn import pipeline\n",
    "from sklearn import pipeline\n",
    "from sklearn.model_selection import GridSearchCV\n",
    "#from sklearn.feature_extraction import DictVectorizer\n",
    "from sklearn.base import BaseEstimator, TransformerMixin\n",
    "from sklearn.pipeline import FeatureUnion\n",
    "from sklearn.decomposition import TruncatedSVD\n",
    "#from sklearn.feature_extraction.text import CountVectorizer, TfidfTransformer\n",
    "from sklearn.feature_extraction.text import TfidfVectorizer\n",
    "from sklearn.metrics import mean_squared_error, make_scorer\n",
    "#from nltk.metrics import edit_distance\n",
    "from nltk.stem.porter import *\n",
    "stemmer = PorterStemmer()\n",
    "#from nltk.stem.snowball import SnowballStemmer #0.003 improvement but takes twice as long as PorterStemmer\n",
    "from bs4 import BeautifulSoup\n",
    "import re\n",
    "from scipy.stats import spearmanr\n",
    "import random\n",
    "random.seed(2016)\n",
    "from scipy.stats import norm  \n",
    "import seaborn as sns # data visualization\n",
    "%matplotlib inline\n",
    "import matplotlib.pyplot as plt"
   ]
  },
  {
   "cell_type": "markdown",
   "id": "b038d14b",
   "metadata": {
    "papermill": {
     "duration": 0.074164,
     "end_time": "2022-01-08T03:54:20.481064",
     "exception": false,
     "start_time": "2022-01-08T03:54:20.406900",
     "status": "completed"
    },
    "tags": []
   },
   "source": [
    "# Tổng quan về dữ liệu\n",
    "train.csv - tập dữ liệu dùng để huấn luyện chứa sản phẩm, cụm từ tìm kiếm và mức độ liên quan\n",
    "test.csv - bộ thử nghiệm, chứa các sản phẩm và cụm từ tìm kiếm\n",
    "product_descriptions.csv - chứa mô tả dạng text của từng sản phẩm\n",
    "attributes.csv - thuộc tính của sản phẩm, cung cấp thông tin mở rộng về một tập hợp con của các sản phẩm (thường đại diện cho các thông số kỹ thuật chi tiết). Không phải mọi sản phẩm sẽ đều có thuộc tính.\n",
    "sample_submission.csv - một tệp hiển thị đúng định dạng gửi\n",
    "relevance_instructions.docx - các hướng dẫn được cung cấp cho người đánh giá\n",
    "# Các trường dữ liệu\n",
    "* id - trường Id duy nhất đại diện cho một cặp (search_term, product_uid) \n",
    "* product_uid - id cho các sản phẩm\n",
    "* product_title - tiêu đề sản phẩm\n",
    "* product_description - mô tả text của sản phẩm (có thể chứa nội dung HTML)\n",
    "* search_term - cụm từ tìm kiếm\n",
    "* relevane - mức trung bình của xếp hạng mức độ liên quan cho một id nhất định\n",
    "* name - tên thuộc tính\n",
    "* value - giá trị của thuộc tính"
   ]
  },
  {
   "cell_type": "markdown",
   "id": "4894175b",
   "metadata": {
    "papermill": {
     "duration": 0.072588,
     "end_time": "2022-01-08T03:54:20.627087",
     "exception": false,
     "start_time": "2022-01-08T03:54:20.554499",
     "status": "completed"
    },
    "tags": []
   },
   "source": [
    "# Load data from csv file"
   ]
  },
  {
   "cell_type": "code",
   "execution_count": 2,
   "id": "7abe507e",
   "metadata": {
    "execution": {
     "iopub.execute_input": "2022-01-08T03:54:20.780926Z",
     "iopub.status.busy": "2022-01-08T03:54:20.777367Z",
     "iopub.status.idle": "2022-01-08T03:54:26.303351Z",
     "shell.execute_reply": "2022-01-08T03:54:26.302812Z",
     "shell.execute_reply.started": "2022-01-08T02:25:28.530049Z"
    },
    "papermill": {
     "duration": 5.603066,
     "end_time": "2022-01-08T03:54:26.303500",
     "exception": false,
     "start_time": "2022-01-08T03:54:20.700434",
     "status": "completed"
    },
    "tags": []
   },
   "outputs": [
    {
     "name": "stdout",
     "output_type": "stream",
     "text": [
      "(74067, 5)\n"
     ]
    },
    {
     "data": {
      "text/html": [
       "<div>\n",
       "<style scoped>\n",
       "    .dataframe tbody tr th:only-of-type {\n",
       "        vertical-align: middle;\n",
       "    }\n",
       "\n",
       "    .dataframe tbody tr th {\n",
       "        vertical-align: top;\n",
       "    }\n",
       "\n",
       "    .dataframe thead th {\n",
       "        text-align: right;\n",
       "    }\n",
       "</style>\n",
       "<table border=\"1\" class=\"dataframe\">\n",
       "  <thead>\n",
       "    <tr style=\"text-align: right;\">\n",
       "      <th></th>\n",
       "      <th>id</th>\n",
       "      <th>product_uid</th>\n",
       "      <th>product_title</th>\n",
       "      <th>search_term</th>\n",
       "      <th>relevance</th>\n",
       "    </tr>\n",
       "  </thead>\n",
       "  <tbody>\n",
       "    <tr>\n",
       "      <th>0</th>\n",
       "      <td>2</td>\n",
       "      <td>100001</td>\n",
       "      <td>Simpson Strong-Tie 12-Gauge Angle</td>\n",
       "      <td>angle bracket</td>\n",
       "      <td>3.0</td>\n",
       "    </tr>\n",
       "  </tbody>\n",
       "</table>\n",
       "</div>"
      ],
      "text/plain": [
       "   id  product_uid                      product_title    search_term  \\\n",
       "0   2       100001  Simpson Strong-Tie 12-Gauge Angle  angle bracket   \n",
       "\n",
       "   relevance  \n",
       "0        3.0  "
      ]
     },
     "execution_count": 2,
     "metadata": {},
     "output_type": "execute_result"
    }
   ],
   "source": [
    "path = \"../input/home-depot-product-search-relevance-data/\"\n",
    "train_df = pd.read_csv(path + \"train.csv\", encoding=\"ISO-8859-1\") #update here\n",
    "test_df = pd.read_csv(path + \"test.csv\", encoding=\"ISO-8859-1\") #update here\n",
    "desc_df = pd.read_csv(path + \"product_descriptions.csv\", encoding=\"ISO-8859-1\") #update here\n",
    "attribute_df = pd.read_csv(path + \"attributes.csv\", encoding=\"ISO-8859-1\") #update here\n",
    "print(train_df.shape)\n",
    "train_df.head(1)"
   ]
  },
  {
   "cell_type": "code",
   "execution_count": 3,
   "id": "c7d6e4ec",
   "metadata": {
    "execution": {
     "iopub.execute_input": "2022-01-08T03:54:26.457378Z",
     "iopub.status.busy": "2022-01-08T03:54:26.456730Z",
     "iopub.status.idle": "2022-01-08T03:54:26.460555Z",
     "shell.execute_reply": "2022-01-08T03:54:26.461073Z",
     "shell.execute_reply.started": "2022-01-08T02:25:34.194723Z"
    },
    "papermill": {
     "duration": 0.08338,
     "end_time": "2022-01-08T03:54:26.461246",
     "exception": false,
     "start_time": "2022-01-08T03:54:26.377866",
     "status": "completed"
    },
    "tags": []
   },
   "outputs": [],
   "source": [
    "def get_df_info(df):\n",
    "    print(f\"df shape: \\n\",df.shape)\n",
    "    print(f\"df data has {df.isnull().values.sum()} null values:\")\n",
    "    print(f\"df columns: \\n\",df.columns)\n",
    "    print(f\"df data types: \\n\",df.dtypes)\n",
    "    return df.head(10)"
   ]
  },
  {
   "cell_type": "markdown",
   "id": "d3a6b367",
   "metadata": {
    "papermill": {
     "duration": 0.073761,
     "end_time": "2022-01-08T03:54:26.609416",
     "exception": false,
     "start_time": "2022-01-08T03:54:26.535655",
     "status": "completed"
    },
    "tags": []
   },
   "source": [
    "# Train Data\n",
    "* Gồm các cột: product_uid, product_title, search_term, relevance và 74067 hàng chứa thông tin các trường của sản phẩm tương ứng\n",
    "* Product_uid là số nhận dạng duy nhất cho mỗi sản phẩm.\n",
    "* Tập train không có giá trị Null\n",
    "* Đối với mỗi sản phẩm, thường có nhiều hàng tức là nhiều truy vấn tìm kiếm với điểm mức độ liên quan của chúng.\n",
    "* Tập train gồm:\n",
    "  * 54667 product_uid\n",
    "  * 11795 search_term\n",
    "  * 94731 product_title\n",
    "* Nhiều sản phẩm xuất hiện nhiều lần trong tập train"
   ]
  },
  {
   "cell_type": "code",
   "execution_count": 4,
   "id": "851007ec",
   "metadata": {
    "execution": {
     "iopub.execute_input": "2022-01-08T03:54:26.764674Z",
     "iopub.status.busy": "2022-01-08T03:54:26.763998Z",
     "iopub.status.idle": "2022-01-08T03:54:26.797381Z",
     "shell.execute_reply": "2022-01-08T03:54:26.797901Z",
     "shell.execute_reply.started": "2022-01-08T02:25:34.204015Z"
    },
    "papermill": {
     "duration": 0.114157,
     "end_time": "2022-01-08T03:54:26.798093",
     "exception": false,
     "start_time": "2022-01-08T03:54:26.683936",
     "status": "completed"
    },
    "tags": []
   },
   "outputs": [
    {
     "name": "stdout",
     "output_type": "stream",
     "text": [
      "df shape: \n",
      " (74067, 5)\n",
      "df data has 0 null values:\n",
      "df columns: \n",
      " Index(['id', 'product_uid', 'product_title', 'search_term', 'relevance'], dtype='object')\n",
      "df data types: \n",
      " id                 int64\n",
      "product_uid        int64\n",
      "product_title     object\n",
      "search_term       object\n",
      "relevance        float64\n",
      "dtype: object\n"
     ]
    },
    {
     "data": {
      "text/html": [
       "<div>\n",
       "<style scoped>\n",
       "    .dataframe tbody tr th:only-of-type {\n",
       "        vertical-align: middle;\n",
       "    }\n",
       "\n",
       "    .dataframe tbody tr th {\n",
       "        vertical-align: top;\n",
       "    }\n",
       "\n",
       "    .dataframe thead th {\n",
       "        text-align: right;\n",
       "    }\n",
       "</style>\n",
       "<table border=\"1\" class=\"dataframe\">\n",
       "  <thead>\n",
       "    <tr style=\"text-align: right;\">\n",
       "      <th></th>\n",
       "      <th>id</th>\n",
       "      <th>product_uid</th>\n",
       "      <th>product_title</th>\n",
       "      <th>search_term</th>\n",
       "      <th>relevance</th>\n",
       "    </tr>\n",
       "  </thead>\n",
       "  <tbody>\n",
       "    <tr>\n",
       "      <th>0</th>\n",
       "      <td>2</td>\n",
       "      <td>100001</td>\n",
       "      <td>Simpson Strong-Tie 12-Gauge Angle</td>\n",
       "      <td>angle bracket</td>\n",
       "      <td>3.00</td>\n",
       "    </tr>\n",
       "    <tr>\n",
       "      <th>1</th>\n",
       "      <td>3</td>\n",
       "      <td>100001</td>\n",
       "      <td>Simpson Strong-Tie 12-Gauge Angle</td>\n",
       "      <td>l bracket</td>\n",
       "      <td>2.50</td>\n",
       "    </tr>\n",
       "    <tr>\n",
       "      <th>2</th>\n",
       "      <td>9</td>\n",
       "      <td>100002</td>\n",
       "      <td>BEHR Premium Textured DeckOver 1-gal. #SC-141 ...</td>\n",
       "      <td>deck over</td>\n",
       "      <td>3.00</td>\n",
       "    </tr>\n",
       "    <tr>\n",
       "      <th>3</th>\n",
       "      <td>16</td>\n",
       "      <td>100005</td>\n",
       "      <td>Delta Vero 1-Handle Shower Only Faucet Trim Ki...</td>\n",
       "      <td>rain shower head</td>\n",
       "      <td>2.33</td>\n",
       "    </tr>\n",
       "    <tr>\n",
       "      <th>4</th>\n",
       "      <td>17</td>\n",
       "      <td>100005</td>\n",
       "      <td>Delta Vero 1-Handle Shower Only Faucet Trim Ki...</td>\n",
       "      <td>shower only faucet</td>\n",
       "      <td>2.67</td>\n",
       "    </tr>\n",
       "    <tr>\n",
       "      <th>5</th>\n",
       "      <td>18</td>\n",
       "      <td>100006</td>\n",
       "      <td>Whirlpool 1.9 cu. ft. Over the Range Convectio...</td>\n",
       "      <td>convection otr</td>\n",
       "      <td>3.00</td>\n",
       "    </tr>\n",
       "    <tr>\n",
       "      <th>6</th>\n",
       "      <td>20</td>\n",
       "      <td>100006</td>\n",
       "      <td>Whirlpool 1.9 cu. ft. Over the Range Convectio...</td>\n",
       "      <td>microwave over stove</td>\n",
       "      <td>2.67</td>\n",
       "    </tr>\n",
       "    <tr>\n",
       "      <th>7</th>\n",
       "      <td>21</td>\n",
       "      <td>100006</td>\n",
       "      <td>Whirlpool 1.9 cu. ft. Over the Range Convectio...</td>\n",
       "      <td>microwaves</td>\n",
       "      <td>3.00</td>\n",
       "    </tr>\n",
       "    <tr>\n",
       "      <th>8</th>\n",
       "      <td>23</td>\n",
       "      <td>100007</td>\n",
       "      <td>Lithonia Lighting Quantum 2-Light Black LED Em...</td>\n",
       "      <td>emergency light</td>\n",
       "      <td>2.67</td>\n",
       "    </tr>\n",
       "    <tr>\n",
       "      <th>9</th>\n",
       "      <td>27</td>\n",
       "      <td>100009</td>\n",
       "      <td>House of Fara 3/4 in. x 3 in. x 8 ft. MDF Flut...</td>\n",
       "      <td>mdf 3/4</td>\n",
       "      <td>3.00</td>\n",
       "    </tr>\n",
       "  </tbody>\n",
       "</table>\n",
       "</div>"
      ],
      "text/plain": [
       "   id  product_uid                                      product_title  \\\n",
       "0   2       100001                  Simpson Strong-Tie 12-Gauge Angle   \n",
       "1   3       100001                  Simpson Strong-Tie 12-Gauge Angle   \n",
       "2   9       100002  BEHR Premium Textured DeckOver 1-gal. #SC-141 ...   \n",
       "3  16       100005  Delta Vero 1-Handle Shower Only Faucet Trim Ki...   \n",
       "4  17       100005  Delta Vero 1-Handle Shower Only Faucet Trim Ki...   \n",
       "5  18       100006  Whirlpool 1.9 cu. ft. Over the Range Convectio...   \n",
       "6  20       100006  Whirlpool 1.9 cu. ft. Over the Range Convectio...   \n",
       "7  21       100006  Whirlpool 1.9 cu. ft. Over the Range Convectio...   \n",
       "8  23       100007  Lithonia Lighting Quantum 2-Light Black LED Em...   \n",
       "9  27       100009  House of Fara 3/4 in. x 3 in. x 8 ft. MDF Flut...   \n",
       "\n",
       "            search_term  relevance  \n",
       "0         angle bracket       3.00  \n",
       "1             l bracket       2.50  \n",
       "2             deck over       3.00  \n",
       "3      rain shower head       2.33  \n",
       "4    shower only faucet       2.67  \n",
       "5        convection otr       3.00  \n",
       "6  microwave over stove       2.67  \n",
       "7            microwaves       3.00  \n",
       "8       emergency light       2.67  \n",
       "9               mdf 3/4       3.00  "
      ]
     },
     "execution_count": 4,
     "metadata": {},
     "output_type": "execute_result"
    }
   ],
   "source": [
    "get_df_info(train_df)"
   ]
  },
  {
   "cell_type": "code",
   "execution_count": 5,
   "id": "2392c67b",
   "metadata": {
    "execution": {
     "iopub.execute_input": "2022-01-08T03:54:26.961626Z",
     "iopub.status.busy": "2022-01-08T03:54:26.960527Z",
     "iopub.status.idle": "2022-01-08T03:54:26.999858Z",
     "shell.execute_reply": "2022-01-08T03:54:26.999299Z",
     "shell.execute_reply.started": "2022-01-08T02:25:34.256977Z"
    },
    "papermill": {
     "duration": 0.126189,
     "end_time": "2022-01-08T03:54:27.000009",
     "exception": false,
     "start_time": "2022-01-08T03:54:26.873820",
     "status": "completed"
    },
    "tags": []
   },
   "outputs": [
    {
     "name": "stdout",
     "output_type": "stream",
     "text": [
      "there are 54667 product_uid\n",
      "there are 53489 products_title\n",
      "there are 11795 search query \n"
     ]
    }
   ],
   "source": [
    "print(\"there are {} product_uid\".format(len(train_df.product_uid.unique())))\n",
    "print(\"there are {} products_title\".format(len(train_df.product_title.unique())))\n",
    "print(\"there are {} search query \".format(len(train_df.search_term.unique())))"
   ]
  },
  {
   "cell_type": "markdown",
   "id": "f0a9593c",
   "metadata": {
    "papermill": {
     "duration": 0.07512,
     "end_time": "2022-01-08T03:54:27.152264",
     "exception": false,
     "start_time": "2022-01-08T03:54:27.077144",
     "status": "completed"
    },
    "tags": []
   },
   "source": [
    "**Biểu đồ thể hiện sự phân bổ của relevance trong tập train**\n",
    "\n",
    "* Số lượng sản phẩm đạt mức tương quan cao với từ tìm kiếm (relevance=3) chiếm số lượng lớn nhất\n",
    "* Relevance = {1,25, 1,5, 1,75, 2,25, 2,5, 2,75} xảy ra với tần suất rất thấp."
   ]
  },
  {
   "cell_type": "code",
   "execution_count": 6,
   "id": "1132c272",
   "metadata": {
    "execution": {
     "iopub.execute_input": "2022-01-08T03:54:27.309010Z",
     "iopub.status.busy": "2022-01-08T03:54:27.307955Z",
     "iopub.status.idle": "2022-01-08T03:54:27.711034Z",
     "shell.execute_reply": "2022-01-08T03:54:27.711549Z",
     "shell.execute_reply.started": "2022-01-08T02:25:34.312060Z"
    },
    "papermill": {
     "duration": 0.484294,
     "end_time": "2022-01-08T03:54:27.711757",
     "exception": false,
     "start_time": "2022-01-08T03:54:27.227463",
     "status": "completed"
    },
    "tags": []
   },
   "outputs": [
    {
     "data": {
      "image/png": "[encoded data removed]",
      "text/plain": [
       "<Figure size 432x216 with 1 Axes>"
      ]
     },
     "metadata": {
      "needs_background": "light"
     },
     "output_type": "display_data"
    }
   ],
   "source": [
    "sns.catplot(x='relevance', kind='count', data=train_df, height=3, aspect=2)\n",
    "plt.title('distribution of relevance scores')\n",
    "plt.show()"
   ]
  },
  {
   "cell_type": "markdown",
   "id": "8ed54caa",
   "metadata": {
    "papermill": {
     "duration": 0.075838,
     "end_time": "2022-01-08T03:54:27.863308",
     "exception": false,
     "start_time": "2022-01-08T03:54:27.787470",
     "status": "completed"
    },
    "tags": []
   },
   "source": [
    "# Test Data\n",
    "* Chứa các cột: product_uid, product_title, search_term và 166693 hàng\n",
    "* Tập test không chứa dữ liệu Null\n",
    "* Gần 1 nửa số sản phẩm của tập train nằm trong tập test (27699 sản phẩm)\n",
    "* Tập test gồm:\n",
    "  * 97460 product_uid\n",
    "  * 94731 products_title\n",
    "  * 22427 search_term"
   ]
  },
  {
   "cell_type": "code",
   "execution_count": 7,
   "id": "40c0f36f",
   "metadata": {
    "execution": {
     "iopub.execute_input": "2022-01-08T03:54:28.058749Z",
     "iopub.status.busy": "2022-01-08T03:54:28.020143Z",
     "iopub.status.idle": "2022-01-08T03:54:28.073951Z",
     "shell.execute_reply": "2022-01-08T03:54:28.073294Z",
     "shell.execute_reply.started": "2022-01-08T02:25:34.700661Z"
    },
    "papermill": {
     "duration": 0.134431,
     "end_time": "2022-01-08T03:54:28.074107",
     "exception": false,
     "start_time": "2022-01-08T03:54:27.939676",
     "status": "completed"
    },
    "tags": []
   },
   "outputs": [
    {
     "name": "stdout",
     "output_type": "stream",
     "text": [
      "df shape: \n",
      " (166693, 4)\n",
      "df data has 0 null values:\n",
      "df columns: \n",
      " Index(['id', 'product_uid', 'product_title', 'search_term'], dtype='object')\n",
      "df data types: \n",
      " id                int64\n",
      "product_uid       int64\n",
      "product_title    object\n",
      "search_term      object\n",
      "dtype: object\n"
     ]
    },
    {
     "data": {
      "text/html": [
       "<div>\n",
       "<style scoped>\n",
       "    .dataframe tbody tr th:only-of-type {\n",
       "        vertical-align: middle;\n",
       "    }\n",
       "\n",
       "    .dataframe tbody tr th {\n",
       "        vertical-align: top;\n",
       "    }\n",
       "\n",
       "    .dataframe thead th {\n",
       "        text-align: right;\n",
       "    }\n",
       "</style>\n",
       "<table border=\"1\" class=\"dataframe\">\n",
       "  <thead>\n",
       "    <tr style=\"text-align: right;\">\n",
       "      <th></th>\n",
       "      <th>id</th>\n",
       "      <th>product_uid</th>\n",
       "      <th>product_title</th>\n",
       "      <th>search_term</th>\n",
       "    </tr>\n",
       "  </thead>\n",
       "  <tbody>\n",
       "    <tr>\n",
       "      <th>0</th>\n",
       "      <td>1</td>\n",
       "      <td>100001</td>\n",
       "      <td>Simpson Strong-Tie 12-Gauge Angle</td>\n",
       "      <td>90 degree bracket</td>\n",
       "    </tr>\n",
       "    <tr>\n",
       "      <th>1</th>\n",
       "      <td>4</td>\n",
       "      <td>100001</td>\n",
       "      <td>Simpson Strong-Tie 12-Gauge Angle</td>\n",
       "      <td>metal l brackets</td>\n",
       "    </tr>\n",
       "    <tr>\n",
       "      <th>2</th>\n",
       "      <td>5</td>\n",
       "      <td>100001</td>\n",
       "      <td>Simpson Strong-Tie 12-Gauge Angle</td>\n",
       "      <td>simpson sku able</td>\n",
       "    </tr>\n",
       "    <tr>\n",
       "      <th>3</th>\n",
       "      <td>6</td>\n",
       "      <td>100001</td>\n",
       "      <td>Simpson Strong-Tie 12-Gauge Angle</td>\n",
       "      <td>simpson strong  ties</td>\n",
       "    </tr>\n",
       "    <tr>\n",
       "      <th>4</th>\n",
       "      <td>7</td>\n",
       "      <td>100001</td>\n",
       "      <td>Simpson Strong-Tie 12-Gauge Angle</td>\n",
       "      <td>simpson strong tie hcc668</td>\n",
       "    </tr>\n",
       "    <tr>\n",
       "      <th>5</th>\n",
       "      <td>8</td>\n",
       "      <td>100001</td>\n",
       "      <td>Simpson Strong-Tie 12-Gauge Angle</td>\n",
       "      <td>wood connectors</td>\n",
       "    </tr>\n",
       "    <tr>\n",
       "      <th>6</th>\n",
       "      <td>10</td>\n",
       "      <td>100003</td>\n",
       "      <td>STERLING Ensemble 33-1/4 in. x 60 in. x 75-1/4...</td>\n",
       "      <td>bath and shower kit</td>\n",
       "    </tr>\n",
       "    <tr>\n",
       "      <th>7</th>\n",
       "      <td>11</td>\n",
       "      <td>100003</td>\n",
       "      <td>STERLING Ensemble 33-1/4 in. x 60 in. x 75-1/4...</td>\n",
       "      <td>bath drain kit</td>\n",
       "    </tr>\n",
       "    <tr>\n",
       "      <th>8</th>\n",
       "      <td>12</td>\n",
       "      <td>100003</td>\n",
       "      <td>STERLING Ensemble 33-1/4 in. x 60 in. x 75-1/4...</td>\n",
       "      <td>one piece tub shower</td>\n",
       "    </tr>\n",
       "    <tr>\n",
       "      <th>9</th>\n",
       "      <td>13</td>\n",
       "      <td>100004</td>\n",
       "      <td>Grape Solar 265-Watt Polycrystalline Solar Pan...</td>\n",
       "      <td>solar panel</td>\n",
       "    </tr>\n",
       "  </tbody>\n",
       "</table>\n",
       "</div>"
      ],
      "text/plain": [
       "   id  product_uid                                      product_title  \\\n",
       "0   1       100001                  Simpson Strong-Tie 12-Gauge Angle   \n",
       "1   4       100001                  Simpson Strong-Tie 12-Gauge Angle   \n",
       "2   5       100001                  Simpson Strong-Tie 12-Gauge Angle   \n",
       "3   6       100001                  Simpson Strong-Tie 12-Gauge Angle   \n",
       "4   7       100001                  Simpson Strong-Tie 12-Gauge Angle   \n",
       "5   8       100001                  Simpson Strong-Tie 12-Gauge Angle   \n",
       "6  10       100003  STERLING Ensemble 33-1/4 in. x 60 in. x 75-1/4...   \n",
       "7  11       100003  STERLING Ensemble 33-1/4 in. x 60 in. x 75-1/4...   \n",
       "8  12       100003  STERLING Ensemble 33-1/4 in. x 60 in. x 75-1/4...   \n",
       "9  13       100004  Grape Solar 265-Watt Polycrystalline Solar Pan...   \n",
       "\n",
       "                 search_term  \n",
       "0          90 degree bracket  \n",
       "1           metal l brackets  \n",
       "2           simpson sku able  \n",
       "3       simpson strong  ties  \n",
       "4  simpson strong tie hcc668  \n",
       "5            wood connectors  \n",
       "6        bath and shower kit  \n",
       "7             bath drain kit  \n",
       "8       one piece tub shower  \n",
       "9                solar panel  "
      ]
     },
     "execution_count": 7,
     "metadata": {},
     "output_type": "execute_result"
    }
   ],
   "source": [
    "get_df_info(test_df)"
   ]
  },
  {
   "cell_type": "code",
   "execution_count": 8,
   "id": "659f30bd",
   "metadata": {
    "execution": {
     "iopub.execute_input": "2022-01-08T03:54:28.233076Z",
     "iopub.status.busy": "2022-01-08T03:54:28.232379Z",
     "iopub.status.idle": "2022-01-08T03:54:28.315619Z",
     "shell.execute_reply": "2022-01-08T03:54:28.316173Z",
     "shell.execute_reply.started": "2022-01-08T02:25:34.756454Z"
    },
    "papermill": {
     "duration": 0.164717,
     "end_time": "2022-01-08T03:54:28.316370",
     "exception": false,
     "start_time": "2022-01-08T03:54:28.151653",
     "status": "completed"
    },
    "tags": []
   },
   "outputs": [
    {
     "name": "stdout",
     "output_type": "stream",
     "text": [
      "there are 97460 product_uid\n",
      "there are 94731 products_title\n",
      "there are 22427 search query \n"
     ]
    }
   ],
   "source": [
    "print(\"there are {} product_uid\".format(len(test_df.product_uid.unique())))\n",
    "print(\"there are {} products_title\".format(len(test_df.product_title.unique())))\n",
    "print(\"there are {} search query \".format(len(test_df.search_term.unique())))"
   ]
  },
  {
   "cell_type": "code",
   "execution_count": 9,
   "id": "9d1f1809",
   "metadata": {
    "execution": {
     "iopub.execute_input": "2022-01-08T03:54:28.475873Z",
     "iopub.status.busy": "2022-01-08T03:54:28.475121Z",
     "iopub.status.idle": "2022-01-08T03:54:28.478272Z",
     "shell.execute_reply": "2022-01-08T03:54:28.478778Z",
     "shell.execute_reply.started": "2022-01-08T02:25:34.835835Z"
    },
    "papermill": {
     "duration": 0.084226,
     "end_time": "2022-01-08T03:54:28.478963",
     "exception": false,
     "start_time": "2022-01-08T03:54:28.394737",
     "status": "completed"
    },
    "tags": []
   },
   "outputs": [],
   "source": [
    "# pip install matplotlib-venn"
   ]
  },
  {
   "cell_type": "code",
   "execution_count": 10,
   "id": "264d1ac3",
   "metadata": {
    "execution": {
     "iopub.execute_input": "2022-01-08T03:54:28.636770Z",
     "iopub.status.busy": "2022-01-08T03:54:28.636097Z",
     "iopub.status.idle": "2022-01-08T03:54:28.652572Z",
     "shell.execute_reply": "2022-01-08T03:54:28.653153Z",
     "shell.execute_reply.started": "2022-01-08T02:25:44.801814Z"
    },
    "papermill": {
     "duration": 0.096908,
     "end_time": "2022-01-08T03:54:28.653358",
     "exception": false,
     "start_time": "2022-01-08T03:54:28.556450",
     "status": "completed"
    },
    "tags": []
   },
   "outputs": [],
   "source": [
    "from matplotlib_venn import venn2, venn2_circles, venn2_unweighted\n",
    "from matplotlib_venn import venn3, venn3_circles\n",
    "from matplotlib import pyplot as plt\n",
    "%matplotlib inline"
   ]
  },
  {
   "cell_type": "markdown",
   "id": "99dbfe0e",
   "metadata": {
    "papermill": {
     "duration": 0.076911,
     "end_time": "2022-01-08T03:54:28.809697",
     "exception": false,
     "start_time": "2022-01-08T03:54:28.732786",
     "status": "completed"
    },
    "tags": []
   },
   "source": [
    "**Biểu đồ Venn thể hiện độ tương quan của sản phẩm trong tập train và test**"
   ]
  },
  {
   "cell_type": "code",
   "execution_count": 11,
   "id": "ff8568ef",
   "metadata": {
    "execution": {
     "iopub.execute_input": "2022-01-08T03:54:28.967280Z",
     "iopub.status.busy": "2022-01-08T03:54:28.966612Z",
     "iopub.status.idle": "2022-01-08T03:54:29.113947Z",
     "shell.execute_reply": "2022-01-08T03:54:29.113354Z",
     "shell.execute_reply.started": "2022-01-08T02:25:44.824492Z"
    },
    "papermill": {
     "duration": 0.226939,
     "end_time": "2022-01-08T03:54:29.114095",
     "exception": false,
     "start_time": "2022-01-08T03:54:28.887156",
     "status": "completed"
    },
    "tags": []
   },
   "outputs": [
    {
     "data": {
      "image/png": "[encoded data removed]",
      "text/plain": [
       "<Figure size 432x288 with 1 Axes>"
      ]
     },
     "metadata": {},
     "output_type": "display_data"
    }
   ],
   "source": [
    "venn2([set(train_df[\"product_uid\"]), set(test_df[\"product_uid\"])], set_labels=('train', 'test'),set_colors=('purple', 'skyblue'),alpha = 0.5)\n",
    "plt.show()"
   ]
  },
  {
   "cell_type": "markdown",
   "id": "3ad4688a",
   "metadata": {
    "papermill": {
     "duration": 0.078531,
     "end_time": "2022-01-08T03:54:29.271555",
     "exception": false,
     "start_time": "2022-01-08T03:54:29.193024",
     "status": "completed"
    },
    "tags": []
   },
   "source": [
    "# Description data\n",
    "* Gồm 2 cột(product_id và product_description) và 124428 hàng\n",
    "* product_description chứa mô tả văn bản của từng sản phẩm bao gồm số và các ký tự, hữu ích trong việc tìm kiếm sản phẩm\n",
    "* Tập description không chứa giá trị Null\n",
    "* Tập description có:\n",
    "  * 124428 product_uid\n",
    "  * 110128 product_description"
   ]
  },
  {
   "cell_type": "code",
   "execution_count": 12,
   "id": "372275ee",
   "metadata": {
    "execution": {
     "iopub.execute_input": "2022-01-08T03:54:29.452049Z",
     "iopub.status.busy": "2022-01-08T03:54:29.451341Z",
     "iopub.status.idle": "2022-01-08T03:54:29.484996Z",
     "shell.execute_reply": "2022-01-08T03:54:29.485446Z",
     "shell.execute_reply.started": "2022-01-08T02:25:44.982822Z"
    },
    "papermill": {
     "duration": 0.125717,
     "end_time": "2022-01-08T03:54:29.485628",
     "exception": false,
     "start_time": "2022-01-08T03:54:29.359911",
     "status": "completed"
    },
    "tags": []
   },
   "outputs": [
    {
     "name": "stdout",
     "output_type": "stream",
     "text": [
      "df shape: \n",
      " (124428, 2)\n",
      "df data has 0 null values:\n",
      "df columns: \n",
      " Index(['product_uid', 'product_description'], dtype='object')\n",
      "df data types: \n",
      " product_uid             int64\n",
      "product_description    object\n",
      "dtype: object\n"
     ]
    },
    {
     "data": {
      "text/html": [
       "<div>\n",
       "<style scoped>\n",
       "    .dataframe tbody tr th:only-of-type {\n",
       "        vertical-align: middle;\n",
       "    }\n",
       "\n",
       "    .dataframe tbody tr th {\n",
       "        vertical-align: top;\n",
       "    }\n",
       "\n",
       "    .dataframe thead th {\n",
       "        text-align: right;\n",
       "    }\n",
       "</style>\n",
       "<table border=\"1\" class=\"dataframe\">\n",
       "  <thead>\n",
       "    <tr style=\"text-align: right;\">\n",
       "      <th></th>\n",
       "      <th>product_uid</th>\n",
       "      <th>product_description</th>\n",
       "    </tr>\n",
       "  </thead>\n",
       "  <tbody>\n",
       "    <tr>\n",
       "      <th>0</th>\n",
       "      <td>100001</td>\n",
       "      <td>Not only do angles make joints stronger, they ...</td>\n",
       "    </tr>\n",
       "    <tr>\n",
       "      <th>1</th>\n",
       "      <td>100002</td>\n",
       "      <td>BEHR Premium Textured DECKOVER is an innovativ...</td>\n",
       "    </tr>\n",
       "    <tr>\n",
       "      <th>2</th>\n",
       "      <td>100003</td>\n",
       "      <td>Classic architecture meets contemporary design...</td>\n",
       "    </tr>\n",
       "    <tr>\n",
       "      <th>3</th>\n",
       "      <td>100004</td>\n",
       "      <td>The Grape Solar 265-Watt Polycrystalline PV So...</td>\n",
       "    </tr>\n",
       "    <tr>\n",
       "      <th>4</th>\n",
       "      <td>100005</td>\n",
       "      <td>Update your bathroom with the Delta Vero Singl...</td>\n",
       "    </tr>\n",
       "    <tr>\n",
       "      <th>5</th>\n",
       "      <td>100006</td>\n",
       "      <td>Achieving delicious results is almost effortle...</td>\n",
       "    </tr>\n",
       "    <tr>\n",
       "      <th>6</th>\n",
       "      <td>100007</td>\n",
       "      <td>The Quantum Adjustable 2-Light LED Black Emerg...</td>\n",
       "    </tr>\n",
       "    <tr>\n",
       "      <th>7</th>\n",
       "      <td>100008</td>\n",
       "      <td>The Teks #10 x 1-1/2 in. Zinc-Plated Steel Was...</td>\n",
       "    </tr>\n",
       "    <tr>\n",
       "      <th>8</th>\n",
       "      <td>100009</td>\n",
       "      <td>Get the House of Fara 3/4 in. x 3 in. x 8 ft. ...</td>\n",
       "    </tr>\n",
       "    <tr>\n",
       "      <th>9</th>\n",
       "      <td>100010</td>\n",
       "      <td>Valley View Industries Metal Stakes (4-Pack) a...</td>\n",
       "    </tr>\n",
       "  </tbody>\n",
       "</table>\n",
       "</div>"
      ],
      "text/plain": [
       "   product_uid                                product_description\n",
       "0       100001  Not only do angles make joints stronger, they ...\n",
       "1       100002  BEHR Premium Textured DECKOVER is an innovativ...\n",
       "2       100003  Classic architecture meets contemporary design...\n",
       "3       100004  The Grape Solar 265-Watt Polycrystalline PV So...\n",
       "4       100005  Update your bathroom with the Delta Vero Singl...\n",
       "5       100006  Achieving delicious results is almost effortle...\n",
       "6       100007  The Quantum Adjustable 2-Light LED Black Emerg...\n",
       "7       100008  The Teks #10 x 1-1/2 in. Zinc-Plated Steel Was...\n",
       "8       100009  Get the House of Fara 3/4 in. x 3 in. x 8 ft. ...\n",
       "9       100010  Valley View Industries Metal Stakes (4-Pack) a..."
      ]
     },
     "execution_count": 12,
     "metadata": {},
     "output_type": "execute_result"
    }
   ],
   "source": [
    "get_df_info(desc_df)"
   ]
  },
  {
   "cell_type": "code",
   "execution_count": 13,
   "id": "05db8783",
   "metadata": {
    "execution": {
     "iopub.execute_input": "2022-01-08T03:54:29.651200Z",
     "iopub.status.busy": "2022-01-08T03:54:29.650477Z",
     "iopub.status.idle": "2022-01-08T03:54:29.931527Z",
     "shell.execute_reply": "2022-01-08T03:54:29.932127Z",
     "shell.execute_reply.started": "2022-01-08T02:25:45.059745Z"
    },
    "papermill": {
     "duration": 0.366892,
     "end_time": "2022-01-08T03:54:29.932333",
     "exception": false,
     "start_time": "2022-01-08T03:54:29.565441",
     "status": "completed"
    },
    "tags": []
   },
   "outputs": [
    {
     "name": "stdout",
     "output_type": "stream",
     "text": [
      "there are 124428 product_uid\n",
      "there are 110128 product_description\n"
     ]
    }
   ],
   "source": [
    "print(\"there are {} product_uid\".format(len(desc_df.product_uid.unique())))\n",
    "print(\"there are {} product_description\".format(len(desc_df.product_description.unique())))"
   ]
  },
  {
   "cell_type": "markdown",
   "id": "9d7bf14d",
   "metadata": {
    "papermill": {
     "duration": 0.083185,
     "end_time": "2022-01-08T03:54:30.097873",
     "exception": false,
     "start_time": "2022-01-08T03:54:30.014688",
     "status": "completed"
    },
    "tags": []
   },
   "source": [
    "**Biểu đồ thể hiện sự tương quan giữa tập train và desc của sản phẩm**"
   ]
  },
  {
   "cell_type": "code",
   "execution_count": 14,
   "id": "5a96944c",
   "metadata": {
    "execution": {
     "iopub.execute_input": "2022-01-08T03:54:30.282334Z",
     "iopub.status.busy": "2022-01-08T03:54:30.281639Z",
     "iopub.status.idle": "2022-01-08T03:54:30.416836Z",
     "shell.execute_reply": "2022-01-08T03:54:30.416312Z",
     "shell.execute_reply.started": "2022-01-08T02:25:45.367296Z"
    },
    "papermill": {
     "duration": 0.237105,
     "end_time": "2022-01-08T03:54:30.416992",
     "exception": false,
     "start_time": "2022-01-08T03:54:30.179887",
     "status": "completed"
    },
    "tags": []
   },
   "outputs": [
    {
     "data": {
      "image/png": "[encoded data removed]",
      "text/plain": [
       "<Figure size 432x288 with 1 Axes>"
      ]
     },
     "metadata": {},
     "output_type": "display_data"
    }
   ],
   "source": [
    "set1 = set(train_df['product_uid'].values)\n",
    "set2 = set(desc_df['product_uid'].values)\n",
    "\n",
    "venn2([set1, set2], ('train_df', 'desc_df'))\n",
    "plt.title('Train and desc distribution of products')\n",
    "plt.show()"
   ]
  },
  {
   "cell_type": "markdown",
   "id": "aca542cf",
   "metadata": {
    "papermill": {
     "duration": 0.081889,
     "end_time": "2022-01-08T03:54:30.580976",
     "exception": false,
     "start_time": "2022-01-08T03:54:30.499087",
     "status": "completed"
    },
    "tags": []
   },
   "source": [
    "# Attribute data\n",
    "* Gồm 3 cột(product_uid, name, value) và 2.044.803 hàng\n",
    "* chứa một số thông tin bổ sung về một tập hợp con các sản phẩm.\n",
    "* Tập thuộc tính chứa 2594 giá trị null.\n",
    "* Mỗi sản phẩm trong tệp thuộc tính.csv có nhiều thuộc tính. Số lượng thuộc tính tối thiểu cho một sản phẩm là 5 và tối đa là 88. Nhưng không phải tất cả các sản phẩm trong tệp train.csv đều được tìm thấy trong tệp thuộc tính.csv. Tổng số 16263 trên tổng số 54667 sản phẩm không có thuộc tính\n",
    "* name (thương hiệu) là thuộc tính phổ biến nhất được tìm thấy trong 86.250 trường hợp trong tệp attributes.csv"
   ]
  },
  {
   "cell_type": "code",
   "execution_count": 15,
   "id": "945ff9c9",
   "metadata": {
    "execution": {
     "iopub.execute_input": "2022-01-08T03:54:30.750736Z",
     "iopub.status.busy": "2022-01-08T03:54:30.749641Z",
     "iopub.status.idle": "2022-01-08T03:54:31.234724Z",
     "shell.execute_reply": "2022-01-08T03:54:31.235258Z",
     "shell.execute_reply.started": "2022-01-08T02:25:45.534488Z"
    },
    "papermill": {
     "duration": 0.572486,
     "end_time": "2022-01-08T03:54:31.235446",
     "exception": false,
     "start_time": "2022-01-08T03:54:30.662960",
     "status": "completed"
    },
    "tags": []
   },
   "outputs": [
    {
     "name": "stdout",
     "output_type": "stream",
     "text": [
      "df shape: \n",
      " (2044803, 3)\n",
      "df data has 2594 null values:\n",
      "df columns: \n",
      " Index(['product_uid', 'name', 'value'], dtype='object')\n",
      "df data types: \n",
      " product_uid    float64\n",
      "name            object\n",
      "value           object\n",
      "dtype: object\n"
     ]
    },
    {
     "data": {
      "text/html": [
       "<div>\n",
       "<style scoped>\n",
       "    .dataframe tbody tr th:only-of-type {\n",
       "        vertical-align: middle;\n",
       "    }\n",
       "\n",
       "    .dataframe tbody tr th {\n",
       "        vertical-align: top;\n",
       "    }\n",
       "\n",
       "    .dataframe thead th {\n",
       "        text-align: right;\n",
       "    }\n",
       "</style>\n",
       "<table border=\"1\" class=\"dataframe\">\n",
       "  <thead>\n",
       "    <tr style=\"text-align: right;\">\n",
       "      <th></th>\n",
       "      <th>product_uid</th>\n",
       "      <th>name</th>\n",
       "      <th>value</th>\n",
       "    </tr>\n",
       "  </thead>\n",
       "  <tbody>\n",
       "    <tr>\n",
       "      <th>0</th>\n",
       "      <td>100001.0</td>\n",
       "      <td>Bullet01</td>\n",
       "      <td>Versatile connector for various 90Â° connectio...</td>\n",
       "    </tr>\n",
       "    <tr>\n",
       "      <th>1</th>\n",
       "      <td>100001.0</td>\n",
       "      <td>Bullet02</td>\n",
       "      <td>Stronger than angled nailing or screw fastenin...</td>\n",
       "    </tr>\n",
       "    <tr>\n",
       "      <th>2</th>\n",
       "      <td>100001.0</td>\n",
       "      <td>Bullet03</td>\n",
       "      <td>Help ensure joints are consistently straight a...</td>\n",
       "    </tr>\n",
       "    <tr>\n",
       "      <th>3</th>\n",
       "      <td>100001.0</td>\n",
       "      <td>Bullet04</td>\n",
       "      <td>Dimensions: 3 in. x 3 in. x 1-1/2 in.</td>\n",
       "    </tr>\n",
       "    <tr>\n",
       "      <th>4</th>\n",
       "      <td>100001.0</td>\n",
       "      <td>Bullet05</td>\n",
       "      <td>Made from 12-Gauge steel</td>\n",
       "    </tr>\n",
       "    <tr>\n",
       "      <th>5</th>\n",
       "      <td>100001.0</td>\n",
       "      <td>Bullet06</td>\n",
       "      <td>Galvanized for extra corrosion resistance</td>\n",
       "    </tr>\n",
       "    <tr>\n",
       "      <th>6</th>\n",
       "      <td>100001.0</td>\n",
       "      <td>Bullet07</td>\n",
       "      <td>Install with 10d common nails or #9 x 1-1/2 in...</td>\n",
       "    </tr>\n",
       "    <tr>\n",
       "      <th>7</th>\n",
       "      <td>100001.0</td>\n",
       "      <td>Gauge</td>\n",
       "      <td>12</td>\n",
       "    </tr>\n",
       "    <tr>\n",
       "      <th>8</th>\n",
       "      <td>100001.0</td>\n",
       "      <td>Material</td>\n",
       "      <td>Galvanized Steel</td>\n",
       "    </tr>\n",
       "    <tr>\n",
       "      <th>9</th>\n",
       "      <td>100001.0</td>\n",
       "      <td>MFG Brand Name</td>\n",
       "      <td>Simpson Strong-Tie</td>\n",
       "    </tr>\n",
       "  </tbody>\n",
       "</table>\n",
       "</div>"
      ],
      "text/plain": [
       "   product_uid            name  \\\n",
       "0     100001.0        Bullet01   \n",
       "1     100001.0        Bullet02   \n",
       "2     100001.0        Bullet03   \n",
       "3     100001.0        Bullet04   \n",
       "4     100001.0        Bullet05   \n",
       "5     100001.0        Bullet06   \n",
       "6     100001.0        Bullet07   \n",
       "7     100001.0           Gauge   \n",
       "8     100001.0        Material   \n",
       "9     100001.0  MFG Brand Name   \n",
       "\n",
       "                                               value  \n",
       "0  Versatile connector for various 90Â° connectio...  \n",
       "1  Stronger than angled nailing or screw fastenin...  \n",
       "2  Help ensure joints are consistently straight a...  \n",
       "3              Dimensions: 3 in. x 3 in. x 1-1/2 in.  \n",
       "4                           Made from 12-Gauge steel  \n",
       "5          Galvanized for extra corrosion resistance  \n",
       "6  Install with 10d common nails or #9 x 1-1/2 in...  \n",
       "7                                                 12  \n",
       "8                                   Galvanized Steel  \n",
       "9                                 Simpson Strong-Tie  "
      ]
     },
     "execution_count": 15,
     "metadata": {},
     "output_type": "execute_result"
    }
   ],
   "source": [
    "get_df_info(attribute_df)"
   ]
  },
  {
   "cell_type": "code",
   "execution_count": 16,
   "id": "683663ed",
   "metadata": {
    "execution": {
     "iopub.execute_input": "2022-01-08T03:54:31.434378Z",
     "iopub.status.busy": "2022-01-08T03:54:31.433282Z",
     "iopub.status.idle": "2022-01-08T03:54:33.110593Z",
     "shell.execute_reply": "2022-01-08T03:54:33.111123Z",
     "shell.execute_reply.started": "2022-01-08T02:25:46.075774Z"
    },
    "papermill": {
     "duration": 1.791679,
     "end_time": "2022-01-08T03:54:33.111296",
     "exception": false,
     "start_time": "2022-01-08T03:54:31.319617",
     "status": "completed"
    },
    "tags": []
   },
   "outputs": [
    {
     "name": "stdout",
     "output_type": "stream",
     "text": [
      "max number of attributes for a single product 88\n",
      "min number of attributes for a single product 5\n",
      "\n"
     ]
    },
    {
     "data": {
      "image/png": "[encoded data removed]",
      "text/plain": [
       "<Figure size 504x360 with 1 Axes>"
      ]
     },
     "metadata": {
      "needs_background": "light"
     },
     "output_type": "display_data"
    }
   ],
   "source": [
    "grp_df = attribute_df.groupby(['product_uid'])\n",
    "print('max number of attributes for a single product', grp_df.count()['value'].max())\n",
    "print('min number of attributes for a single product', grp_df.count()['value'].min())\n",
    "print('')\n",
    "\n",
    "plt.figure(figsize=(7,5))\n",
    "plt.plot(np.sort(grp_df.count()['value']))\n",
    "plt.title('distribution of #attributes for each product')\n",
    "plt.show()"
   ]
  },
  {
   "cell_type": "markdown",
   "id": "88160927",
   "metadata": {
    "papermill": {
     "duration": 0.083316,
     "end_time": "2022-01-08T03:54:33.278934",
     "exception": false,
     "start_time": "2022-01-08T03:54:33.195618",
     "status": "completed"
    },
    "tags": []
   },
   "source": [
    "**Biểu đồ thể hiện sự tương quan của train.csv và attributes.csv**"
   ]
  },
  {
   "cell_type": "code",
   "execution_count": 17,
   "id": "22fabd0c",
   "metadata": {
    "execution": {
     "iopub.execute_input": "2022-01-08T03:54:34.099122Z",
     "iopub.status.busy": "2022-01-08T03:54:34.098038Z",
     "iopub.status.idle": "2022-01-08T03:54:34.350835Z",
     "shell.execute_reply": "2022-01-08T03:54:34.351688Z",
     "shell.execute_reply.started": "2022-01-08T02:25:47.850323Z"
    },
    "papermill": {
     "duration": 0.989749,
     "end_time": "2022-01-08T03:54:34.351938",
     "exception": false,
     "start_time": "2022-01-08T03:54:33.362189",
     "status": "completed"
    },
    "tags": []
   },
   "outputs": [
    {
     "data": {
      "image/png": "[encoded data removed]",
      "text/plain": [
       "<Figure size 432x288 with 1 Axes>"
      ]
     },
     "metadata": {},
     "output_type": "display_data"
    }
   ],
   "source": [
    "set1 = set(train_df['product_uid'].values)\n",
    "set2 = set(attribute_df['product_uid'].values)\n",
    "\n",
    "venn2([set1, set2], ('train_df', 'attribute_df'))\n",
    "plt.title('train_df and attr_df distribution of products')\n",
    "plt.show()"
   ]
  },
  {
   "cell_type": "markdown",
   "id": "0dea4c6c",
   "metadata": {
    "papermill": {
     "duration": 0.083935,
     "end_time": "2022-01-08T03:54:34.526255",
     "exception": false,
     "start_time": "2022-01-08T03:54:34.442320",
     "status": "completed"
    },
    "tags": []
   },
   "source": [
    "**Kiểm tra xem product_uids có bất kỳ mối tương quan nào với điểm mức độ liên quan hay không**"
   ]
  },
  {
   "cell_type": "code",
   "execution_count": 18,
   "id": "d7d1b787",
   "metadata": {
    "execution": {
     "iopub.execute_input": "2022-01-08T03:54:34.703407Z",
     "iopub.status.busy": "2022-01-08T03:54:34.702613Z",
     "iopub.status.idle": "2022-01-08T03:54:35.748510Z",
     "shell.execute_reply": "2022-01-08T03:54:35.747950Z",
     "shell.execute_reply.started": "2022-01-08T02:25:48.746112Z"
    },
    "papermill": {
     "duration": 1.137704,
     "end_time": "2022-01-08T03:54:35.748679",
     "exception": false,
     "start_time": "2022-01-08T03:54:34.610975",
     "status": "completed"
    },
    "tags": []
   },
   "outputs": [
    {
     "name": "stdout",
     "output_type": "stream",
     "text": [
      "Spearmans correlation between product_uid and relevance class 0.08922860613250413\n",
      "\n"
     ]
    },
    {
     "data": {
      "image/png": "[encoded data removed]",
      "text/plain": [
       "<Figure size 432x288 with 1 Axes>"
      ]
     },
     "metadata": {
      "needs_background": "light"
     },
     "output_type": "display_data"
    }
   ],
   "source": [
    "temp_ = train_df.copy()\n",
    "temp_['rel'] = temp_['relevance'].apply(lambda x: 'High' if x > 2 else 'Low')\n",
    "\n",
    "corr, _ = spearmanr(temp_['product_uid'], temp_['rel'])\n",
    "print('Spearmans correlation between product_uid and relevance class', corr)\n",
    "print('')\n",
    "\n",
    "sns.kdeplot(data=temp_, x=\"product_uid\", hue=\"rel\")\n",
    "plt.plot()\n",
    "plt.show()"
   ]
  },
  {
   "cell_type": "code",
   "execution_count": 19,
   "id": "f74e7912",
   "metadata": {
    "execution": {
     "iopub.execute_input": "2022-01-08T03:54:35.925106Z",
     "iopub.status.busy": "2022-01-08T03:54:35.924417Z",
     "iopub.status.idle": "2022-01-08T03:54:35.931123Z",
     "shell.execute_reply": "2022-01-08T03:54:35.931658Z",
     "shell.execute_reply.started": "2022-01-08T02:25:49.785267Z"
    },
    "papermill": {
     "duration": 0.096545,
     "end_time": "2022-01-08T03:54:35.931854",
     "exception": false,
     "start_time": "2022-01-08T03:54:35.835309",
     "status": "completed"
    },
    "tags": []
   },
   "outputs": [],
   "source": [
    "# hàm nối thuộc tính\n",
    "def merge_attributes(df):\n",
    "    product_uids = df['product_uid'].values\n",
    "    temp = attribute_df.loc[attribute_df['product_uid'].isin(product_uids)].fillna('')  \n",
    "    temp['name_value'] = temp['name'] + ' ' + temp['value']\n",
    "    temp['attr'] = temp.groupby(['product_uid'])['name_value'].transform(lambda x: ' '.join(x))\n",
    "    temp = temp.drop_duplicates('product_uid')[['product_uid', 'attr']]\n",
    "    df = pd.merge(df, temp, on='product_uid', how='left').set_index(df.index)\n",
    "    return df"
   ]
  },
  {
   "cell_type": "code",
   "execution_count": 20,
   "id": "727c403e",
   "metadata": {
    "execution": {
     "iopub.execute_input": "2022-01-08T03:54:36.108836Z",
     "iopub.status.busy": "2022-01-08T03:54:36.108107Z",
     "iopub.status.idle": "2022-01-08T03:54:36.113741Z",
     "shell.execute_reply": "2022-01-08T03:54:36.114280Z",
     "shell.execute_reply.started": "2022-01-08T02:25:49.794653Z"
    },
    "papermill": {
     "duration": 0.096814,
     "end_time": "2022-01-08T03:54:36.114459",
     "exception": false,
     "start_time": "2022-01-08T03:54:36.017645",
     "status": "completed"
    },
    "tags": []
   },
   "outputs": [],
   "source": [
    "# hàm nối với brand\n",
    "def merge_brand(df):\n",
    "    product_uids = df['product_uid'].values\n",
    "    temp = attribute_df.loc[attribute_df['product_uid'].isin(product_uids)]  \n",
    "    brands = temp[temp['name']=='MFG Brand Name']\n",
    "    brands_temp = brands[['product_uid','value']]\n",
    "    df = pd.merge(df, brands_temp, on='product_uid', how='left').set_index(df.index)\n",
    "    df.rename(columns = {'value':'brand'}, inplace = True) \n",
    "    return df"
   ]
  },
  {
   "cell_type": "code",
   "execution_count": 21,
   "id": "da83fd3a",
   "metadata": {
    "execution": {
     "iopub.execute_input": "2022-01-08T03:54:36.292486Z",
     "iopub.status.busy": "2022-01-08T03:54:36.291770Z",
     "iopub.status.idle": "2022-01-08T03:54:36.296599Z",
     "shell.execute_reply": "2022-01-08T03:54:36.297254Z",
     "shell.execute_reply.started": "2022-01-08T02:25:49.808184Z"
    },
    "papermill": {
     "duration": 0.097359,
     "end_time": "2022-01-08T03:54:36.297423",
     "exception": false,
     "start_time": "2022-01-08T03:54:36.200064",
     "status": "completed"
    },
    "tags": []
   },
   "outputs": [],
   "source": [
    "# hàm nối với mô tả\n",
    "def merge_description(df):\n",
    "    df = pd.merge(df, desc_df, on='product_uid', how='left').set_index(df.index)\n",
    "  #tách các từ được nối trong mô tả. \n",
    "    df['product_description'] = df['product_description'].apply(lambda x: ' '.join(re.findall(r'[A-Z]?[^A-Z\\s]+|[A-Z]+', x)))\n",
    "    return df"
   ]
  },
  {
   "cell_type": "markdown",
   "id": "023b9aab",
   "metadata": {
    "papermill": {
     "duration": 0.087132,
     "end_time": "2022-01-08T03:54:36.472927",
     "exception": false,
     "start_time": "2022-01-08T03:54:36.385795",
     "status": "completed"
    },
    "tags": []
   },
   "source": [
    "# Preprocessing data\n",
    "Để có cái nhìn tổng quát về dữ liệu của chúng tôi, chúng tôi sẽ hợp nhất tập train và test. Sau đó hợp nhất tất cả các thuộc tính, mô tả và thương hiệu với train_df."
   ]
  },
  {
   "cell_type": "code",
   "execution_count": 22,
   "id": "7cb0c964",
   "metadata": {
    "execution": {
     "iopub.execute_input": "2022-01-08T03:54:36.655874Z",
     "iopub.status.busy": "2022-01-08T03:54:36.655113Z",
     "iopub.status.idle": "2022-01-08T03:55:20.939284Z",
     "shell.execute_reply": "2022-01-08T03:55:20.938749Z",
     "shell.execute_reply.started": "2022-01-08T02:25:49.820929Z"
    },
    "papermill": {
     "duration": 44.377188,
     "end_time": "2022-01-08T03:55:20.939425",
     "exception": false,
     "start_time": "2022-01-08T03:54:36.562237",
     "status": "completed"
    },
    "tags": []
   },
   "outputs": [
    {
     "name": "stdout",
     "output_type": "stream",
     "text": [
      "(240760, 7)\n"
     ]
    },
    {
     "data": {
      "text/html": [
       "<div>\n",
       "<style scoped>\n",
       "    .dataframe tbody tr th:only-of-type {\n",
       "        vertical-align: middle;\n",
       "    }\n",
       "\n",
       "    .dataframe tbody tr th {\n",
       "        vertical-align: top;\n",
       "    }\n",
       "\n",
       "    .dataframe thead th {\n",
       "        text-align: right;\n",
       "    }\n",
       "</style>\n",
       "<table border=\"1\" class=\"dataframe\">\n",
       "  <thead>\n",
       "    <tr style=\"text-align: right;\">\n",
       "      <th></th>\n",
       "      <th>id</th>\n",
       "      <th>product_uid</th>\n",
       "      <th>product_title</th>\n",
       "      <th>search_term</th>\n",
       "      <th>relevance</th>\n",
       "      <th>product_description</th>\n",
       "      <th>brand</th>\n",
       "    </tr>\n",
       "  </thead>\n",
       "  <tbody>\n",
       "    <tr>\n",
       "      <th>0</th>\n",
       "      <td>2</td>\n",
       "      <td>100001</td>\n",
       "      <td>Simpson Strong-Tie 12-Gauge Angle</td>\n",
       "      <td>angle bracket</td>\n",
       "      <td>3.00</td>\n",
       "      <td>Not only do angles make joints stronger, they ...</td>\n",
       "      <td>Simpson Strong-Tie</td>\n",
       "    </tr>\n",
       "    <tr>\n",
       "      <th>1</th>\n",
       "      <td>3</td>\n",
       "      <td>100001</td>\n",
       "      <td>Simpson Strong-Tie 12-Gauge Angle</td>\n",
       "      <td>l bracket</td>\n",
       "      <td>2.50</td>\n",
       "      <td>Not only do angles make joints stronger, they ...</td>\n",
       "      <td>Simpson Strong-Tie</td>\n",
       "    </tr>\n",
       "    <tr>\n",
       "      <th>2</th>\n",
       "      <td>9</td>\n",
       "      <td>100002</td>\n",
       "      <td>BEHR Premium Textured DeckOver 1-gal. #SC-141 ...</td>\n",
       "      <td>deck over</td>\n",
       "      <td>3.00</td>\n",
       "      <td>BEHR Premium Textured DECKOVER is an innovativ...</td>\n",
       "      <td>BEHR Premium Textured DeckOver</td>\n",
       "    </tr>\n",
       "    <tr>\n",
       "      <th>3</th>\n",
       "      <td>16</td>\n",
       "      <td>100005</td>\n",
       "      <td>Delta Vero 1-Handle Shower Only Faucet Trim Ki...</td>\n",
       "      <td>rain shower head</td>\n",
       "      <td>2.33</td>\n",
       "      <td>Update your bathroom with the Delta Vero Singl...</td>\n",
       "      <td>Delta</td>\n",
       "    </tr>\n",
       "    <tr>\n",
       "      <th>4</th>\n",
       "      <td>17</td>\n",
       "      <td>100005</td>\n",
       "      <td>Delta Vero 1-Handle Shower Only Faucet Trim Ki...</td>\n",
       "      <td>shower only faucet</td>\n",
       "      <td>2.67</td>\n",
       "      <td>Update your bathroom with the Delta Vero Singl...</td>\n",
       "      <td>Delta</td>\n",
       "    </tr>\n",
       "  </tbody>\n",
       "</table>\n",
       "</div>"
      ],
      "text/plain": [
       "   id  product_uid                                      product_title  \\\n",
       "0   2       100001                  Simpson Strong-Tie 12-Gauge Angle   \n",
       "1   3       100001                  Simpson Strong-Tie 12-Gauge Angle   \n",
       "2   9       100002  BEHR Premium Textured DeckOver 1-gal. #SC-141 ...   \n",
       "3  16       100005  Delta Vero 1-Handle Shower Only Faucet Trim Ki...   \n",
       "4  17       100005  Delta Vero 1-Handle Shower Only Faucet Trim Ki...   \n",
       "\n",
       "          search_term  relevance  \\\n",
       "0       angle bracket       3.00   \n",
       "1           l bracket       2.50   \n",
       "2           deck over       3.00   \n",
       "3    rain shower head       2.33   \n",
       "4  shower only faucet       2.67   \n",
       "\n",
       "                                 product_description  \\\n",
       "0  Not only do angles make joints stronger, they ...   \n",
       "1  Not only do angles make joints stronger, they ...   \n",
       "2  BEHR Premium Textured DECKOVER is an innovativ...   \n",
       "3  Update your bathroom with the Delta Vero Singl...   \n",
       "4  Update your bathroom with the Delta Vero Singl...   \n",
       "\n",
       "                            brand  \n",
       "0              Simpson Strong-Tie  \n",
       "1              Simpson Strong-Tie  \n",
       "2  BEHR Premium Textured DeckOver  \n",
       "3                           Delta  \n",
       "4                           Delta  "
      ]
     },
     "execution_count": 22,
     "metadata": {},
     "output_type": "execute_result"
    }
   ],
   "source": [
    "num_train = train_df.shape[0]\n",
    "df_clean = pd.concat((train_df, test_df), axis=0, ignore_index=True)\n",
    "df_clean = merge_attributes(df_clean)\n",
    "# test_df = merge_attributes(test_df)\n",
    "df_clean = merge_description(df_clean)\n",
    "# test_df = merge_description(test_df)\n",
    "df_clean = merge_brand(df_clean)\n",
    "# test_df = merge_brand(test_df)\n",
    "df_clean.drop(['attr'],axis=1, inplace=True)\n",
    "print(df_clean.shape)\n",
    "df_clean.columns\n",
    "df_clean.head()"
   ]
  },
  {
   "cell_type": "markdown",
   "id": "4464faa0",
   "metadata": {
    "papermill": {
     "duration": 0.087466,
     "end_time": "2022-01-08T03:55:21.113171",
     "exception": false,
     "start_time": "2022-01-08T03:55:21.025705",
     "status": "completed"
    },
    "tags": []
   },
   "source": [
    "Ta thấy rằng train_df có nhiều giá trị rỗng. Những điều này xảy ra khi hợp nhất các thuộc tính, vì nhiều sản phẩm trong tập train không có thuộc tính."
   ]
  },
  {
   "cell_type": "code",
   "execution_count": 23,
   "id": "fc0d173c",
   "metadata": {
    "execution": {
     "iopub.execute_input": "2022-01-08T03:55:21.293226Z",
     "iopub.status.busy": "2022-01-08T03:55:21.292299Z",
     "iopub.status.idle": "2022-01-08T03:55:21.421129Z",
     "shell.execute_reply": "2022-01-08T03:55:21.421842Z",
     "shell.execute_reply.started": "2022-01-08T02:26:35.542294Z"
    },
    "papermill": {
     "duration": 0.222111,
     "end_time": "2022-01-08T03:55:21.422110",
     "exception": false,
     "start_time": "2022-01-08T03:55:21.199999",
     "status": "completed"
    },
    "tags": []
   },
   "outputs": [
    {
     "name": "stdout",
     "output_type": "stream",
     "text": [
      "id has 0 null values\n",
      "product_uid has 0 null values\n",
      "product_title has 0 null values\n",
      "search_term has 0 null values\n",
      "relevance has 166693 null values\n",
      "product_description has 0 null values\n",
      "brand has 46137 null values\n"
     ]
    }
   ],
   "source": [
    "for col in df_clean.columns:\n",
    "    print('{} has {} null values'.format(col, df_clean[col].isna().values.sum()))"
   ]
  },
  {
   "cell_type": "markdown",
   "id": "05794f12",
   "metadata": {
    "papermill": {
     "duration": 0.087283,
     "end_time": "2022-01-08T03:55:21.597921",
     "exception": false,
     "start_time": "2022-01-08T03:55:21.510638",
     "status": "completed"
    },
    "tags": []
   },
   "source": [
    "# Điền giá trị rỗng\n",
    "* Có thể thấy rằng các giá trị null chỉ xảy ra trong trường 'brand'.\n",
    "* Thương hiệu của một sản phẩm thường hiện diện trong một vài từ đầu tiên của tiêu đề.\n",
    "* 99% thương hiệu có độ dài từ bốn từ trở xuống. Vì vậy, chủ yếu, thương hiệu nên hiện diện trong 4 từ đầu tiên của tiêu đề.\n",
    "* Đầu tiên,lưu trữ tất cả các thương hiệu duy nhất trong một danh sách “unique_brands”.\n",
    "* Bây giờ, đối với bất kỳ hàng nào có nhãn hiệu rỗng, kiểm tra xem bốn từ đầu tiên của tiêu đề sản phẩm đó có xuất hiện trong danh sách unique_brands hay không. Nếu không, sau đó kiểm tra ba từ đầu tiên và cứ tiếp tục như vậy cho đến từ đầu tiên."
   ]
  },
  {
   "cell_type": "code",
   "execution_count": 24,
   "id": "cd777a1d",
   "metadata": {
    "execution": {
     "iopub.execute_input": "2022-01-08T03:55:21.803253Z",
     "iopub.status.busy": "2022-01-08T03:55:21.802208Z",
     "iopub.status.idle": "2022-01-08T03:55:22.141868Z",
     "shell.execute_reply": "2022-01-08T03:55:22.141312Z",
     "shell.execute_reply.started": "2022-01-08T02:26:35.677886Z"
    },
    "papermill": {
     "duration": 0.456861,
     "end_time": "2022-01-08T03:55:22.142021",
     "exception": false,
     "start_time": "2022-01-08T03:55:21.685160",
     "status": "completed"
    },
    "tags": []
   },
   "outputs": [],
   "source": [
    "unique_brands = np.unique(df_clean['brand'].dropna().values)\n",
    "null_df = df_clean[df_clean['brand'].isnull()]"
   ]
  },
  {
   "cell_type": "code",
   "execution_count": 25,
   "id": "b27b6da0",
   "metadata": {
    "execution": {
     "iopub.execute_input": "2022-01-08T03:55:22.322234Z",
     "iopub.status.busy": "2022-01-08T03:55:22.321260Z",
     "iopub.status.idle": "2022-01-08T03:55:22.324448Z",
     "shell.execute_reply": "2022-01-08T03:55:22.323824Z",
     "shell.execute_reply.started": "2022-01-08T02:26:36.061852Z"
    },
    "papermill": {
     "duration": 0.094743,
     "end_time": "2022-01-08T03:55:22.324598",
     "exception": false,
     "start_time": "2022-01-08T03:55:22.229855",
     "status": "completed"
    },
    "tags": []
   },
   "outputs": [],
   "source": [
    "def split_n(n, sent):\n",
    "    if n > len(sent.split()):\n",
    "        return 'error101'\n",
    "    return ' '.join(sent.split()[:n])"
   ]
  },
  {
   "cell_type": "code",
   "execution_count": 26,
   "id": "53c67f3f",
   "metadata": {
    "execution": {
     "iopub.execute_input": "2022-01-08T03:55:22.509768Z",
     "iopub.status.busy": "2022-01-08T03:55:22.509062Z",
     "iopub.status.idle": "2022-01-08T03:56:25.310326Z",
     "shell.execute_reply": "2022-01-08T03:56:25.309376Z",
     "shell.execute_reply.started": "2022-01-08T02:26:36.069958Z"
    },
    "papermill": {
     "duration": 62.897001,
     "end_time": "2022-01-08T03:56:25.310477",
     "exception": false,
     "start_time": "2022-01-08T03:55:22.413476",
     "status": "completed"
    },
    "tags": []
   },
   "outputs": [],
   "source": [
    "for i, row in null_df.iterrows():\n",
    "    title = row['product_title']\n",
    "    if split_n(4, title) in unique_brands:\n",
    "        null_df['brand'].loc[i] = split_n(4, title)\n",
    "    elif split_n(3, title) in unique_brands:\n",
    "        null_df['brand'].loc[i] = split_n(3, title)\n",
    "    elif split_n(2, title) in unique_brands:\n",
    "        null_df['brand'].loc[i] = split_n(2, title)\n",
    "    else:\n",
    "        null_df['brand'].loc[i] = split_n(1, title)\n",
    "\n",
    "df_clean['brand'].loc[null_df.index] = null_df['brand'].values\n",
    "# null_df = train_df[train_df['attr'].isnull()]\n",
    "# null_df['attr'] = null_df['product_description'].copy()\n",
    "# train_df['attr'].loc[null_df.index] = null_df['attr'].values"
   ]
  },
  {
   "cell_type": "markdown",
   "id": "650a4b1a",
   "metadata": {
    "papermill": {
     "duration": 0.087541,
     "end_time": "2022-01-08T03:56:25.486003",
     "exception": false,
     "start_time": "2022-01-08T03:56:25.398462",
     "status": "completed"
    },
    "tags": []
   },
   "source": [
    "**Dữ liệu sau khi điền giá trị rỗng**"
   ]
  },
  {
   "cell_type": "code",
   "execution_count": 27,
   "id": "c784bfb0",
   "metadata": {
    "execution": {
     "iopub.execute_input": "2022-01-08T03:56:25.721727Z",
     "iopub.status.busy": "2022-01-08T03:56:25.719054Z",
     "iopub.status.idle": "2022-01-08T03:56:25.849976Z",
     "shell.execute_reply": "2022-01-08T03:56:25.849295Z",
     "shell.execute_reply.started": "2022-01-08T02:27:40.806116Z"
    },
    "papermill": {
     "duration": 0.276259,
     "end_time": "2022-01-08T03:56:25.850128",
     "exception": false,
     "start_time": "2022-01-08T03:56:25.573869",
     "status": "completed"
    },
    "tags": []
   },
   "outputs": [
    {
     "name": "stdout",
     "output_type": "stream",
     "text": [
      "id has 0 null values\n",
      "product_uid has 0 null values\n",
      "product_title has 0 null values\n",
      "search_term has 0 null values\n",
      "relevance has 166693 null values\n",
      "product_description has 0 null values\n",
      "brand has 0 null values\n"
     ]
    }
   ],
   "source": [
    "# train_df.drop('id',inplace=True, axis=1)\n",
    "for col in df_clean.columns:\n",
    "    print('{} has {} null values'.format(col,df_clean[col].isna().values.sum()))"
   ]
  },
  {
   "cell_type": "code",
   "execution_count": 28,
   "id": "e58ad0d3",
   "metadata": {
    "execution": {
     "iopub.execute_input": "2022-01-08T03:56:26.030850Z",
     "iopub.status.busy": "2022-01-08T03:56:26.029857Z",
     "iopub.status.idle": "2022-01-08T03:56:26.032748Z",
     "shell.execute_reply": "2022-01-08T03:56:26.032241Z",
     "shell.execute_reply.started": "2022-01-08T02:27:40.945278Z"
    },
    "papermill": {
     "duration": 0.095079,
     "end_time": "2022-01-08T03:56:26.032895",
     "exception": false,
     "start_time": "2022-01-08T03:56:25.937816",
     "status": "completed"
    },
    "tags": []
   },
   "outputs": [],
   "source": [
    "from nltk.corpus import stopwords # Import the stop word list"
   ]
  },
  {
   "cell_type": "markdown",
   "id": "69be3150",
   "metadata": {
    "papermill": {
     "duration": 0.086955,
     "end_time": "2022-01-08T03:56:26.207383",
     "exception": false,
     "start_time": "2022-01-08T03:56:26.120428",
     "status": "completed"
    },
    "tags": []
   },
   "source": [
    "# Clean data\n",
    "**Loại bỏ tag html**"
   ]
  },
  {
   "cell_type": "code",
   "execution_count": 29,
   "id": "5669bfcd",
   "metadata": {
    "execution": {
     "iopub.execute_input": "2022-01-08T03:56:26.390529Z",
     "iopub.status.busy": "2022-01-08T03:56:26.389836Z",
     "iopub.status.idle": "2022-01-08T03:56:26.393502Z",
     "shell.execute_reply": "2022-01-08T03:56:26.394030Z",
     "shell.execute_reply.started": "2022-01-08T02:27:40.952129Z"
    },
    "papermill": {
     "duration": 0.095248,
     "end_time": "2022-01-08T03:56:26.394216",
     "exception": false,
     "start_time": "2022-01-08T03:56:26.298968",
     "status": "completed"
    },
    "tags": []
   },
   "outputs": [],
   "source": [
    "def remove_html_tag(text):\n",
    "    soup = BeautifulSoup(text, 'lxml')\n",
    "    text = soup.get_text().replace('Click here to review our return policy for additional information regarding returns', '')\n",
    "    return text"
   ]
  },
  {
   "cell_type": "markdown",
   "id": "343b3dfd",
   "metadata": {
    "papermill": {
     "duration": 0.087837,
     "end_time": "2022-01-08T03:56:26.569799",
     "exception": false,
     "start_time": "2022-01-08T03:56:26.481962",
     "status": "completed"
    },
    "tags": []
   },
   "source": [
    "sửa lỗi chính tả trong các cột: sử dụng file spell-check thu được khi phân tích dữ liệu gồm các từ sai chính tả và các từ đúng tương ứng\n",
    "Xoá các từ mang ít thông tin vd: 'for',...\n",
    "Xoá các ký tự đặc biệt\n",
    "Chuẩn hoá đơn vị"
   ]
  },
  {
   "cell_type": "code",
   "execution_count": 30,
   "id": "d6eec6ac",
   "metadata": {
    "execution": {
     "iopub.execute_input": "2022-01-08T03:56:26.748527Z",
     "iopub.status.busy": "2022-01-08T03:56:26.747778Z",
     "iopub.status.idle": "2022-01-08T03:56:26.785207Z",
     "shell.execute_reply": "2022-01-08T03:56:26.785747Z",
     "shell.execute_reply.started": "2022-01-08T02:27:40.966194Z"
    },
    "papermill": {
     "duration": 0.128585,
     "end_time": "2022-01-08T03:56:26.785926",
     "exception": false,
     "start_time": "2022-01-08T03:56:26.657341",
     "status": "completed"
    },
    "tags": []
   },
   "outputs": [],
   "source": [
    "#stopwords are the words contain very little or no imformation. \n",
    "stop_w = ['for', 'xbi', 'and', 'in', 'th','on','sku','with','what','from','that','less','er','ing'] #'electr','paint','pipe','light','kitchen','wood','outdoor','door','bathroom'\n",
    "\n",
    "strNum = {'zero':0,'one':1,'two':2,'three':3,'four':4,'five':5,'six':6,'seven':7,'eight':8,'nine':9}\n",
    "spell_check = json.load(open('../input/spell-check/fix_spell.json','r'))\n",
    "def str_stem(s):\n",
    "    if isinstance(s, str):\n",
    "        s = re.sub(r\"(\\w)\\.([A-Z])\", r\"\\1 \\2\", s) #Split words with a.A\n",
    "        #split number from word\n",
    "        s = re.sub(r\"([0-9])([a-z])\", r\"\\1 \\2\", s) \n",
    "        s = re.sub(r\"([a-z])([0-9])\", r\"\\1 \\2\", s)\n",
    "        s = s.lower()\n",
    "        s = s.replace(\"  \",\" \") #remove double space\n",
    "        #remove special character and split number\n",
    "        s = s.replace(\",\",\"\") #could be number / segment later\n",
    "        s = s.replace(\"$\",\" \")\n",
    "        s = s.replace(\"?\",\" \")\n",
    "        s = s.replace(\"-\",\" \")\n",
    "        s = s.replace(\"//\",\"/\")\n",
    "        s = s.replace(\"..\",\".\")\n",
    "        s = s.replace(\" / \",\" \")\n",
    "        s = s.replace(\" \\\\ \",\" \")\n",
    "        s = s.replace(\".\",\" . \")\n",
    "        s = s.replace(\" . \",\" \")\n",
    "        s = re.sub(r\"(^\\.|/)\", r\"\", s)\n",
    "        s = re.sub(r\"(\\.|/)$\", r\"\", s)\n",
    "        s = s.replace(\" x \",\" xbi \")\n",
    "        s = re.sub(r\"([a-z])( *)\\.( *)([a-z])\", r\"\\1 \\4\", s)\n",
    "        s = re.sub(r\"([a-z])( *)/( *)([a-z])\", r\"\\1 \\4\", s)\n",
    "        s = s.replace(\"*\",\" xbi \")\n",
    "        s = s.replace(\" by \",\" xbi \")\n",
    "#       convert mesurement unit to standard form.\n",
    "        s = re.sub(r\"([0-9])( *)\\.( *)([0-9])\", r\"\\1.\\4\", s)\n",
    "        s = re.sub(r\"([0-9]+)( *)(inches|inch|in|')\\.?\", r\"\\1in. \", s)\n",
    "        s = re.sub(r\"([0-9]+)( *)(foot|feet|ft|'')\\.?\", r\"\\1ft. \", s)\n",
    "        s = re.sub(r\"([0-9]+)( *)(pounds|pound|lbs|lb)\\.?\", r\"\\1lb. \", s)\n",
    "        s = re.sub(r\"([0-9]+)( *)(square|sq) ?\\.?(feet|foot|ft)\\.?\", r\"\\1sq.ft. \", s)\n",
    "        s = re.sub(r\"([0-9]+)( *)(cubic|cu) ?\\.?(feet|foot|ft)\\.?\", r\"\\1cu.ft. \", s)\n",
    "        s = re.sub(r\"([0-9]+)( *)(gallons|gallon|gal)\\.?\", r\"\\1gal. \", s)\n",
    "        s = re.sub(r\"([0-9]+)( *)(ounces|ounce|oz)\\.?\", r\"\\1oz. \", s)\n",
    "        s = re.sub(r\"([0-9]+)( *)(centimeters|cm)\\.?\", r\"\\1cm. \", s)\n",
    "        s = re.sub(r\"([0-9]+)( *)(milimeters|mm)\\.?\", r\"\\1mm. \", s)\n",
    "        s = s.replace(\"°\",\" degrees \")\n",
    "        s = re.sub(r\"([0-9]+)( *)(degrees|degree)\\.?\", r\"\\1deg. \", s)\n",
    "        s = s.replace(\" v \",\" volts \")\n",
    "        s = re.sub(r\"([0-9]+)( *)(volts|volt)\\.?\", r\"\\1volt. \", s)\n",
    "        s = re.sub(r\"([0-9]+)( *)(watts|watt)\\.?\", r\"\\1watt. \", s)\n",
    "        s = re.sub(r\"([0-9]+)( *)(amperes|ampere|amps|amp)\\.?\", r\"\\1amp. \", s)\n",
    "        # filter out stop words\n",
    "        s = (\" \").join([z for z in s.split(\" \") if z not in stop_w])\n",
    "        # convert string number to number\n",
    "        s = (\" \").join([str(strNum[z]) if z in strNum else z for z in s.split(\" \")])\n",
    "        s = (\" \").join([stemmer.stem(z) for z in s.split(\" \")])\n",
    "        s = remove_html_tag(s)\n",
    "        s = s.lower()\n",
    "        #fix the spell in text\n",
    "        for (k,v) in spell_check.items():\n",
    "            s = s.replace(k,v)\n",
    "        return s\n",
    "    else:\n",
    "        return \"null\""
   ]
  },
  {
   "cell_type": "markdown",
   "id": "30ad243b",
   "metadata": {
    "papermill": {
     "duration": 0.088543,
     "end_time": "2022-01-08T03:56:26.962294",
     "exception": false,
     "start_time": "2022-01-08T03:56:26.873751",
     "status": "completed"
    },
    "tags": []
   },
   "source": [
    "**Dữ liệu được clean cuối cùng được lưu vào df_clean**"
   ]
  },
  {
   "cell_type": "code",
   "execution_count": 31,
   "id": "bcd99088",
   "metadata": {
    "execution": {
     "iopub.execute_input": "2022-01-08T03:56:27.141403Z",
     "iopub.status.busy": "2022-01-08T03:56:27.140800Z",
     "iopub.status.idle": "2022-01-08T04:46:02.325003Z",
     "shell.execute_reply": "2022-01-08T04:46:02.323684Z",
     "shell.execute_reply.started": "2022-01-08T02:27:41.010632Z"
    },
    "papermill": {
     "duration": 2975.275148,
     "end_time": "2022-01-08T04:46:02.325503",
     "exception": false,
     "start_time": "2022-01-08T03:56:27.050355",
     "status": "completed"
    },
    "tags": []
   },
   "outputs": [],
   "source": [
    "df_clean['search_term'] = df_clean['search_term'].map(lambda x : str_stem(x))\n",
    "df_clean['product_title'] = df_clean['product_title'].map(lambda x : str_stem(x))\n",
    "df_clean['product_description'] = df_clean['product_description'].map(lambda x : str_stem(x))\n",
    "df_clean['brand'] = df_clean['brand'].map(lambda x : str_stem(x))\n",
    "# df_clean['attr'] = train_df['attr'].apply(lambda x :str_stem(x))"
   ]
  },
  {
   "cell_type": "code",
   "execution_count": 32,
   "id": "8927cd27",
   "metadata": {
    "execution": {
     "iopub.execute_input": "2022-01-08T04:46:02.530762Z",
     "iopub.status.busy": "2022-01-08T04:46:02.530000Z",
     "iopub.status.idle": "2022-01-08T04:46:02.532894Z",
     "shell.execute_reply": "2022-01-08T04:46:02.533423Z",
     "shell.execute_reply.started": "2022-01-08T03:18:00.388688Z"
    },
    "papermill": {
     "duration": 0.110689,
     "end_time": "2022-01-08T04:46:02.533595",
     "exception": false,
     "start_time": "2022-01-08T04:46:02.422906",
     "status": "completed"
    },
    "tags": []
   },
   "outputs": [
    {
     "data": {
      "text/html": [
       "<div>\n",
       "<style scoped>\n",
       "    .dataframe tbody tr th:only-of-type {\n",
       "        vertical-align: middle;\n",
       "    }\n",
       "\n",
       "    .dataframe tbody tr th {\n",
       "        vertical-align: top;\n",
       "    }\n",
       "\n",
       "    .dataframe thead th {\n",
       "        text-align: right;\n",
       "    }\n",
       "</style>\n",
       "<table border=\"1\" class=\"dataframe\">\n",
       "  <thead>\n",
       "    <tr style=\"text-align: right;\">\n",
       "      <th></th>\n",
       "      <th>id</th>\n",
       "      <th>product_uid</th>\n",
       "      <th>product_title</th>\n",
       "      <th>search_term</th>\n",
       "      <th>relevance</th>\n",
       "      <th>product_description</th>\n",
       "      <th>brand</th>\n",
       "    </tr>\n",
       "  </thead>\n",
       "  <tbody>\n",
       "    <tr>\n",
       "      <th>0</th>\n",
       "      <td>2</td>\n",
       "      <td>100001</td>\n",
       "      <td>simpson strong tie 12 gaug angl</td>\n",
       "      <td>angl bracket</td>\n",
       "      <td>3.00</td>\n",
       "      <td>not onli do angl make joint stronger they also...</td>\n",
       "      <td>simpson strong tie</td>\n",
       "    </tr>\n",
       "    <tr>\n",
       "      <th>1</th>\n",
       "      <td>3</td>\n",
       "      <td>100001</td>\n",
       "      <td>simpson strong tie 12 gaug angl</td>\n",
       "      <td>l bracket</td>\n",
       "      <td>2.50</td>\n",
       "      <td>not onli do angl make joint stronger they also...</td>\n",
       "      <td>simpson strong tie</td>\n",
       "    </tr>\n",
       "    <tr>\n",
       "      <th>2</th>\n",
       "      <td>9</td>\n",
       "      <td>100002</td>\n",
       "      <td>behr premium textur deckov 1gal.   #sc 141 tug...</td>\n",
       "      <td>deck over</td>\n",
       "      <td>3.00</td>\n",
       "      <td>behr premium textur deckov is an innov solid c...</td>\n",
       "      <td>behr premium textur deckov</td>\n",
       "    </tr>\n",
       "    <tr>\n",
       "      <th>3</th>\n",
       "      <td>16</td>\n",
       "      <td>100005</td>\n",
       "      <td>delta vero 1 handl shower onli faucet trim kit...</td>\n",
       "      <td>rain shower head</td>\n",
       "      <td>2.33</td>\n",
       "      <td>updat your bathroom the delta vero singl  hand...</td>\n",
       "      <td>delta</td>\n",
       "    </tr>\n",
       "    <tr>\n",
       "      <th>4</th>\n",
       "      <td>17</td>\n",
       "      <td>100005</td>\n",
       "      <td>delta vero 1 handl shower onli faucet trim kit...</td>\n",
       "      <td>shower onli faucet</td>\n",
       "      <td>2.67</td>\n",
       "      <td>updat your bathroom the delta vero singl  hand...</td>\n",
       "      <td>delta</td>\n",
       "    </tr>\n",
       "  </tbody>\n",
       "</table>\n",
       "</div>"
      ],
      "text/plain": [
       "   id  product_uid                                      product_title  \\\n",
       "0   2       100001                    simpson strong tie 12 gaug angl   \n",
       "1   3       100001                    simpson strong tie 12 gaug angl   \n",
       "2   9       100002  behr premium textur deckov 1gal.   #sc 141 tug...   \n",
       "3  16       100005  delta vero 1 handl shower onli faucet trim kit...   \n",
       "4  17       100005  delta vero 1 handl shower onli faucet trim kit...   \n",
       "\n",
       "          search_term  relevance  \\\n",
       "0        angl bracket       3.00   \n",
       "1           l bracket       2.50   \n",
       "2           deck over       3.00   \n",
       "3    rain shower head       2.33   \n",
       "4  shower onli faucet       2.67   \n",
       "\n",
       "                                 product_description  \\\n",
       "0  not onli do angl make joint stronger they also...   \n",
       "1  not onli do angl make joint stronger they also...   \n",
       "2  behr premium textur deckov is an innov solid c...   \n",
       "3  updat your bathroom the delta vero singl  hand...   \n",
       "4  updat your bathroom the delta vero singl  hand...   \n",
       "\n",
       "                        brand  \n",
       "0          simpson strong tie  \n",
       "1          simpson strong tie  \n",
       "2  behr premium textur deckov  \n",
       "3                       delta  \n",
       "4                       delta  "
      ]
     },
     "execution_count": 32,
     "metadata": {},
     "output_type": "execute_result"
    }
   ],
   "source": [
    "df_clean.head()"
   ]
  },
  {
   "cell_type": "markdown",
   "id": "f04d60e8",
   "metadata": {
    "papermill": {
     "duration": 0.088064,
     "end_time": "2022-01-08T04:46:02.710611",
     "exception": false,
     "start_time": "2022-01-08T04:46:02.622547",
     "status": "completed"
    },
    "tags": []
   },
   "source": [
    "# Feature engineering\n",
    "* Feature Engineerning là một giai đoạn không thể thiếu trong quá trình phát triển bất kỳ một hệ thống thông minh nào\n",
    "* Feature engineering là quá trình chuyển đổi dữ liệu thô thành các tính năng đóng vai trò là đầu vào cho các mô hình học máy, dẫn đến cải thiện độ chính xác của mô hình trên dữ liệu không nhìn thấy.\n",
    "* Các tính năng trong dữ liệu sẽ ảnh hưởng trực tiếp đến các mô hình dự đoán sử dụng và kết quả bạn đạt được.Thường là một đại diện cụ thể trên dòng đầu tiên của dữ liệu thô, là một thuộc tính riêng lẻ, có thể đo lường và mô tả bởi một cột trong tập dữ liệu.\n",
    "* Các tính năng mà bạn chuẩn bị và lựa chọn càng tốt, bạn sẽ đạt được kết quả tốt hơn. Tuy nhiên, kết quả đạt được phụ thuộc vào mô hình ta chọn, dữ liệu có sẵn và các tính năng ta chuẩn bị. Việc bạn đặt vấn đề và các biện pháp khách quan mà ta đang sử dụng để ước tính độ chính xác cũng đóng vai trò quan trọng. Kết quả phụ thuộc vào nhiều thuộc tính phụ thuộc lẫn nhau.\n",
    "\n",
    "**Tạo trường mới**\n",
    "\n",
    "* Để làm phong phú thêm thông tin ta có thể xây dựng các tính năng mới từ dữ liệu thô. Nối search_term, product_title với product_description được phân tách bằng tab tạo thành trường dữ liệu mới product_info"
   ]
  },
  {
   "cell_type": "code",
   "execution_count": 33,
   "id": "c48fd64e",
   "metadata": {
    "execution": {
     "iopub.execute_input": "2022-01-08T04:46:02.891560Z",
     "iopub.status.busy": "2022-01-08T04:46:02.890916Z",
     "iopub.status.idle": "2022-01-08T04:46:03.312170Z",
     "shell.execute_reply": "2022-01-08T04:46:03.311506Z",
     "shell.execute_reply.started": "2022-01-08T03:18:00.408222Z"
    },
    "papermill": {
     "duration": 0.51253,
     "end_time": "2022-01-08T04:46:03.312320",
     "exception": false,
     "start_time": "2022-01-08T04:46:02.799790",
     "status": "completed"
    },
    "tags": []
   },
   "outputs": [],
   "source": [
    "df_clean['product_info'] = df_clean['search_term']+\"\\t\"+ df_clean['product_title']+\"\\t\"+df_clean['product_description']"
   ]
  },
  {
   "cell_type": "markdown",
   "id": "a2ca646f",
   "metadata": {
    "papermill": {
     "duration": 0.088155,
     "end_time": "2022-01-08T04:46:03.489437",
     "exception": false,
     "start_time": "2022-01-08T04:46:03.401282",
     "status": "completed"
    },
    "tags": []
   },
   "source": [
    "* Đếm số từ trong search_term\n",
    "* Đếm số từ trong product_title\n",
    "* Đếm số từ trong mô tả sản phẩm\n",
    "* Đếm số từ trong thương hiệu.\n",
    "\n",
    "Từ đó, ta có thêm 4 cột dữ liệu mới được tạo ra từ các cột ban đầu và đều có ảnh hưởng đến relevance"
   ]
  },
  {
   "cell_type": "code",
   "execution_count": 34,
   "id": "06f11f3b",
   "metadata": {
    "execution": {
     "iopub.execute_input": "2022-01-08T04:46:03.678368Z",
     "iopub.status.busy": "2022-01-08T04:46:03.674575Z",
     "iopub.status.idle": "2022-01-08T04:46:06.608952Z",
     "shell.execute_reply": "2022-01-08T04:46:06.609436Z",
     "shell.execute_reply.started": "2022-01-08T03:18:00.734310Z"
    },
    "papermill": {
     "duration": 3.03175,
     "end_time": "2022-01-08T04:46:06.609638",
     "exception": false,
     "start_time": "2022-01-08T04:46:03.577888",
     "status": "completed"
    },
    "tags": []
   },
   "outputs": [],
   "source": [
    "df_clean['len_of_search'] = df_clean['search_term'].map(lambda x:len(x.split())).astype(np.int64)\n",
    "df_clean['len_of_title'] = df_clean['product_title'].map(lambda x:len(x.split())).astype(np.int64)\n",
    "df_clean['len_of_description'] = df_clean['product_description'].map(lambda x:len(x.split())).astype(np.int64)\n",
    "df_clean['len_of_brand'] = df_clean['brand'].map(lambda x:len(x.split())).astype(np.int64)"
   ]
  },
  {
   "cell_type": "code",
   "execution_count": 35,
   "id": "82c29556",
   "metadata": {
    "execution": {
     "iopub.execute_input": "2022-01-08T04:46:06.790406Z",
     "iopub.status.busy": "2022-01-08T04:46:06.789771Z",
     "iopub.status.idle": "2022-01-08T04:46:06.805277Z",
     "shell.execute_reply": "2022-01-08T04:46:06.804625Z",
     "shell.execute_reply.started": "2022-01-08T03:18:03.634823Z"
    },
    "papermill": {
     "duration": 0.106863,
     "end_time": "2022-01-08T04:46:06.805420",
     "exception": false,
     "start_time": "2022-01-08T04:46:06.698557",
     "status": "completed"
    },
    "tags": []
   },
   "outputs": [
    {
     "data": {
      "text/html": [
       "<div>\n",
       "<style scoped>\n",
       "    .dataframe tbody tr th:only-of-type {\n",
       "        vertical-align: middle;\n",
       "    }\n",
       "\n",
       "    .dataframe tbody tr th {\n",
       "        vertical-align: top;\n",
       "    }\n",
       "\n",
       "    .dataframe thead th {\n",
       "        text-align: right;\n",
       "    }\n",
       "</style>\n",
       "<table border=\"1\" class=\"dataframe\">\n",
       "  <thead>\n",
       "    <tr style=\"text-align: right;\">\n",
       "      <th></th>\n",
       "      <th>id</th>\n",
       "      <th>product_uid</th>\n",
       "      <th>product_title</th>\n",
       "      <th>search_term</th>\n",
       "      <th>relevance</th>\n",
       "      <th>product_description</th>\n",
       "      <th>brand</th>\n",
       "      <th>product_info</th>\n",
       "      <th>len_of_search</th>\n",
       "      <th>len_of_title</th>\n",
       "      <th>len_of_description</th>\n",
       "      <th>len_of_brand</th>\n",
       "    </tr>\n",
       "  </thead>\n",
       "  <tbody>\n",
       "    <tr>\n",
       "      <th>0</th>\n",
       "      <td>2</td>\n",
       "      <td>100001</td>\n",
       "      <td>simpson strong tie 12 gaug angl</td>\n",
       "      <td>angl bracket</td>\n",
       "      <td>3.00</td>\n",
       "      <td>not onli do angl make joint stronger they also...</td>\n",
       "      <td>simpson strong tie</td>\n",
       "      <td>angl bracket\\tsimpson strong tie 12 gaug angl\\...</td>\n",
       "      <td>2</td>\n",
       "      <td>6</td>\n",
       "      <td>128</td>\n",
       "      <td>3</td>\n",
       "    </tr>\n",
       "    <tr>\n",
       "      <th>1</th>\n",
       "      <td>3</td>\n",
       "      <td>100001</td>\n",
       "      <td>simpson strong tie 12 gaug angl</td>\n",
       "      <td>l bracket</td>\n",
       "      <td>2.50</td>\n",
       "      <td>not onli do angl make joint stronger they also...</td>\n",
       "      <td>simpson strong tie</td>\n",
       "      <td>l bracket\\tsimpson strong tie 12 gaug angl\\tno...</td>\n",
       "      <td>2</td>\n",
       "      <td>6</td>\n",
       "      <td>128</td>\n",
       "      <td>3</td>\n",
       "    </tr>\n",
       "    <tr>\n",
       "      <th>2</th>\n",
       "      <td>9</td>\n",
       "      <td>100002</td>\n",
       "      <td>behr premium textur deckov 1gal.   #sc 141 tug...</td>\n",
       "      <td>deck over</td>\n",
       "      <td>3.00</td>\n",
       "      <td>behr premium textur deckov is an innov solid c...</td>\n",
       "      <td>behr premium textur deckov</td>\n",
       "      <td>deck over\\tbehr premium textur deckov 1gal.   ...</td>\n",
       "      <td>2</td>\n",
       "      <td>11</td>\n",
       "      <td>161</td>\n",
       "      <td>4</td>\n",
       "    </tr>\n",
       "    <tr>\n",
       "      <th>3</th>\n",
       "      <td>16</td>\n",
       "      <td>100005</td>\n",
       "      <td>delta vero 1 handl shower onli faucet trim kit...</td>\n",
       "      <td>rain shower head</td>\n",
       "      <td>2.33</td>\n",
       "      <td>updat your bathroom the delta vero singl  hand...</td>\n",
       "      <td>delta</td>\n",
       "      <td>rain shower head\\tdelta vero 1 handl shower on...</td>\n",
       "      <td>3</td>\n",
       "      <td>13</td>\n",
       "      <td>108</td>\n",
       "      <td>1</td>\n",
       "    </tr>\n",
       "    <tr>\n",
       "      <th>4</th>\n",
       "      <td>17</td>\n",
       "      <td>100005</td>\n",
       "      <td>delta vero 1 handl shower onli faucet trim kit...</td>\n",
       "      <td>shower onli faucet</td>\n",
       "      <td>2.67</td>\n",
       "      <td>updat your bathroom the delta vero singl  hand...</td>\n",
       "      <td>delta</td>\n",
       "      <td>shower onli faucet\\tdelta vero 1 handl shower ...</td>\n",
       "      <td>3</td>\n",
       "      <td>13</td>\n",
       "      <td>108</td>\n",
       "      <td>1</td>\n",
       "    </tr>\n",
       "  </tbody>\n",
       "</table>\n",
       "</div>"
      ],
      "text/plain": [
       "   id  product_uid                                      product_title  \\\n",
       "0   2       100001                    simpson strong tie 12 gaug angl   \n",
       "1   3       100001                    simpson strong tie 12 gaug angl   \n",
       "2   9       100002  behr premium textur deckov 1gal.   #sc 141 tug...   \n",
       "3  16       100005  delta vero 1 handl shower onli faucet trim kit...   \n",
       "4  17       100005  delta vero 1 handl shower onli faucet trim kit...   \n",
       "\n",
       "          search_term  relevance  \\\n",
       "0        angl bracket       3.00   \n",
       "1           l bracket       2.50   \n",
       "2           deck over       3.00   \n",
       "3    rain shower head       2.33   \n",
       "4  shower onli faucet       2.67   \n",
       "\n",
       "                                 product_description  \\\n",
       "0  not onli do angl make joint stronger they also...   \n",
       "1  not onli do angl make joint stronger they also...   \n",
       "2  behr premium textur deckov is an innov solid c...   \n",
       "3  updat your bathroom the delta vero singl  hand...   \n",
       "4  updat your bathroom the delta vero singl  hand...   \n",
       "\n",
       "                        brand  \\\n",
       "0          simpson strong tie   \n",
       "1          simpson strong tie   \n",
       "2  behr premium textur deckov   \n",
       "3                       delta   \n",
       "4                       delta   \n",
       "\n",
       "                                        product_info  len_of_search  \\\n",
       "0  angl bracket\\tsimpson strong tie 12 gaug angl\\...              2   \n",
       "1  l bracket\\tsimpson strong tie 12 gaug angl\\tno...              2   \n",
       "2  deck over\\tbehr premium textur deckov 1gal.   ...              2   \n",
       "3  rain shower head\\tdelta vero 1 handl shower on...              3   \n",
       "4  shower onli faucet\\tdelta vero 1 handl shower ...              3   \n",
       "\n",
       "   len_of_title  len_of_description  len_of_brand  \n",
       "0             6                 128             3  \n",
       "1             6                 128             3  \n",
       "2            11                 161             4  \n",
       "3            13                 108             1  \n",
       "4            13                 108             1  "
      ]
     },
     "execution_count": 35,
     "metadata": {},
     "output_type": "execute_result"
    }
   ],
   "source": [
    "# hiển thị dữ liệu sau khi thêm\n",
    "df_clean.head()"
   ]
  },
  {
   "cell_type": "code",
   "execution_count": 36,
   "id": "4f8d951c",
   "metadata": {
    "execution": {
     "iopub.execute_input": "2022-01-08T04:46:06.988416Z",
     "iopub.status.busy": "2022-01-08T04:46:06.987739Z",
     "iopub.status.idle": "2022-01-08T04:46:06.995238Z",
     "shell.execute_reply": "2022-01-08T04:46:06.995748Z",
     "shell.execute_reply.started": "2022-01-08T03:18:03.655623Z"
    },
    "papermill": {
     "duration": 0.101309,
     "end_time": "2022-01-08T04:46:06.995914",
     "exception": false,
     "start_time": "2022-01-08T04:46:06.894605",
     "status": "completed"
    },
    "tags": []
   },
   "outputs": [],
   "source": [
    "def seg_words(str1, str2):\n",
    "    str2 = str2.lower()\n",
    "    str2 = re.sub(\"[^a-z0-9./]\",\" \", str2)\n",
    "    str2 = [z for z in set(str2.split()) if len(z)>2]\n",
    "    words = str1.lower().split(\" \")\n",
    "    s = []\n",
    "    for word in words:\n",
    "        if len(word)>3:\n",
    "            s1 = []\n",
    "            s1 += segmentit(word,str2,True)\n",
    "            if len(s)>1:\n",
    "                s += [z for z in s1 if z not in ['er','ing','s','less'] and len(z)>1]\n",
    "            else:\n",
    "                s.append(word)\n",
    "        else:\n",
    "            s.append(word)\n",
    "    return (\" \".join(s))"
   ]
  },
  {
   "cell_type": "code",
   "execution_count": 37,
   "id": "00cacb75",
   "metadata": {
    "execution": {
     "iopub.execute_input": "2022-01-08T04:46:07.177542Z",
     "iopub.status.busy": "2022-01-08T04:46:07.176911Z",
     "iopub.status.idle": "2022-01-08T04:46:07.184242Z",
     "shell.execute_reply": "2022-01-08T04:46:07.183642Z",
     "shell.execute_reply.started": "2022-01-08T03:18:03.666258Z"
    },
    "papermill": {
     "duration": 0.099246,
     "end_time": "2022-01-08T04:46:07.184386",
     "exception": false,
     "start_time": "2022-01-08T04:46:07.085140",
     "status": "completed"
    },
    "tags": []
   },
   "outputs": [],
   "source": [
    "def segmentit(s, txt_arr, t):\n",
    "    st = s\n",
    "    r = []\n",
    "    for j in range(len(s)):\n",
    "        for word in txt_arr:\n",
    "            if word == s[:-j]:\n",
    "                r.append(s[:-j])\n",
    "                s=s[len(s)-j:]\n",
    "                r += segmentit(s, txt_arr, False)\n",
    "    if t:\n",
    "        i = len((\"\").join(r))\n",
    "        if not i==len(st):\n",
    "            r.append(st[i:])\n",
    "    return r"
   ]
  },
  {
   "cell_type": "code",
   "execution_count": 38,
   "id": "51b915b3",
   "metadata": {
    "execution": {
     "iopub.execute_input": "2022-01-08T04:46:07.368440Z",
     "iopub.status.busy": "2022-01-08T04:46:07.367726Z",
     "iopub.status.idle": "2022-01-08T04:46:16.834354Z",
     "shell.execute_reply": "2022-01-08T04:46:16.834866Z",
     "shell.execute_reply.started": "2022-01-08T03:18:03.677928Z"
    },
    "papermill": {
     "duration": 9.56149,
     "end_time": "2022-01-08T04:46:16.835063",
     "exception": false,
     "start_time": "2022-01-08T04:46:07.273573",
     "status": "completed"
    },
    "tags": []
   },
   "outputs": [],
   "source": [
    "df_clean['search_term'] = df_clean['product_info'].map(lambda x:seg_words(x.split('\\t')[0],x.split('\\t')[1]))"
   ]
  },
  {
   "cell_type": "code",
   "execution_count": 39,
   "id": "2abc5b39",
   "metadata": {
    "execution": {
     "iopub.execute_input": "2022-01-08T04:46:17.024949Z",
     "iopub.status.busy": "2022-01-08T04:46:17.024239Z",
     "iopub.status.idle": "2022-01-08T04:46:17.034162Z",
     "shell.execute_reply": "2022-01-08T04:46:17.033591Z",
     "shell.execute_reply.started": "2022-01-08T03:18:13.087273Z"
    },
    "papermill": {
     "duration": 0.109409,
     "end_time": "2022-01-08T04:46:17.034307",
     "exception": false,
     "start_time": "2022-01-08T04:46:16.924898",
     "status": "completed"
    },
    "tags": []
   },
   "outputs": [
    {
     "data": {
      "text/html": [
       "<div>\n",
       "<style scoped>\n",
       "    .dataframe tbody tr th:only-of-type {\n",
       "        vertical-align: middle;\n",
       "    }\n",
       "\n",
       "    .dataframe tbody tr th {\n",
       "        vertical-align: top;\n",
       "    }\n",
       "\n",
       "    .dataframe thead th {\n",
       "        text-align: right;\n",
       "    }\n",
       "</style>\n",
       "<table border=\"1\" class=\"dataframe\">\n",
       "  <thead>\n",
       "    <tr style=\"text-align: right;\">\n",
       "      <th></th>\n",
       "      <th>id</th>\n",
       "      <th>product_uid</th>\n",
       "      <th>product_title</th>\n",
       "      <th>search_term</th>\n",
       "      <th>relevance</th>\n",
       "      <th>product_description</th>\n",
       "      <th>brand</th>\n",
       "      <th>product_info</th>\n",
       "      <th>len_of_search</th>\n",
       "      <th>len_of_title</th>\n",
       "      <th>len_of_description</th>\n",
       "      <th>len_of_brand</th>\n",
       "    </tr>\n",
       "  </thead>\n",
       "  <tbody>\n",
       "    <tr>\n",
       "      <th>0</th>\n",
       "      <td>2</td>\n",
       "      <td>100001</td>\n",
       "      <td>simpson strong tie 12 gaug angl</td>\n",
       "      <td>angl bracket</td>\n",
       "      <td>3.00</td>\n",
       "      <td>not onli do angl make joint stronger they also...</td>\n",
       "      <td>simpson strong tie</td>\n",
       "      <td>angl bracket\\tsimpson strong tie 12 gaug angl\\...</td>\n",
       "      <td>2</td>\n",
       "      <td>6</td>\n",
       "      <td>128</td>\n",
       "      <td>3</td>\n",
       "    </tr>\n",
       "    <tr>\n",
       "      <th>1</th>\n",
       "      <td>3</td>\n",
       "      <td>100001</td>\n",
       "      <td>simpson strong tie 12 gaug angl</td>\n",
       "      <td>l bracket</td>\n",
       "      <td>2.50</td>\n",
       "      <td>not onli do angl make joint stronger they also...</td>\n",
       "      <td>simpson strong tie</td>\n",
       "      <td>l bracket\\tsimpson strong tie 12 gaug angl\\tno...</td>\n",
       "      <td>2</td>\n",
       "      <td>6</td>\n",
       "      <td>128</td>\n",
       "      <td>3</td>\n",
       "    </tr>\n",
       "    <tr>\n",
       "      <th>2</th>\n",
       "      <td>9</td>\n",
       "      <td>100002</td>\n",
       "      <td>behr premium textur deckov 1gal.   #sc 141 tug...</td>\n",
       "      <td>deck over</td>\n",
       "      <td>3.00</td>\n",
       "      <td>behr premium textur deckov is an innov solid c...</td>\n",
       "      <td>behr premium textur deckov</td>\n",
       "      <td>deck over\\tbehr premium textur deckov 1gal.   ...</td>\n",
       "      <td>2</td>\n",
       "      <td>11</td>\n",
       "      <td>161</td>\n",
       "      <td>4</td>\n",
       "    </tr>\n",
       "    <tr>\n",
       "      <th>3</th>\n",
       "      <td>16</td>\n",
       "      <td>100005</td>\n",
       "      <td>delta vero 1 handl shower onli faucet trim kit...</td>\n",
       "      <td>rain shower head</td>\n",
       "      <td>2.33</td>\n",
       "      <td>updat your bathroom the delta vero singl  hand...</td>\n",
       "      <td>delta</td>\n",
       "      <td>rain shower head\\tdelta vero 1 handl shower on...</td>\n",
       "      <td>3</td>\n",
       "      <td>13</td>\n",
       "      <td>108</td>\n",
       "      <td>1</td>\n",
       "    </tr>\n",
       "    <tr>\n",
       "      <th>4</th>\n",
       "      <td>17</td>\n",
       "      <td>100005</td>\n",
       "      <td>delta vero 1 handl shower onli faucet trim kit...</td>\n",
       "      <td>shower onli faucet</td>\n",
       "      <td>2.67</td>\n",
       "      <td>updat your bathroom the delta vero singl  hand...</td>\n",
       "      <td>delta</td>\n",
       "      <td>shower onli faucet\\tdelta vero 1 handl shower ...</td>\n",
       "      <td>3</td>\n",
       "      <td>13</td>\n",
       "      <td>108</td>\n",
       "      <td>1</td>\n",
       "    </tr>\n",
       "  </tbody>\n",
       "</table>\n",
       "</div>"
      ],
      "text/plain": [
       "   id  product_uid                                      product_title  \\\n",
       "0   2       100001                    simpson strong tie 12 gaug angl   \n",
       "1   3       100001                    simpson strong tie 12 gaug angl   \n",
       "2   9       100002  behr premium textur deckov 1gal.   #sc 141 tug...   \n",
       "3  16       100005  delta vero 1 handl shower onli faucet trim kit...   \n",
       "4  17       100005  delta vero 1 handl shower onli faucet trim kit...   \n",
       "\n",
       "          search_term  relevance  \\\n",
       "0        angl bracket       3.00   \n",
       "1           l bracket       2.50   \n",
       "2           deck over       3.00   \n",
       "3    rain shower head       2.33   \n",
       "4  shower onli faucet       2.67   \n",
       "\n",
       "                                 product_description  \\\n",
       "0  not onli do angl make joint stronger they also...   \n",
       "1  not onli do angl make joint stronger they also...   \n",
       "2  behr premium textur deckov is an innov solid c...   \n",
       "3  updat your bathroom the delta vero singl  hand...   \n",
       "4  updat your bathroom the delta vero singl  hand...   \n",
       "\n",
       "                        brand  \\\n",
       "0          simpson strong tie   \n",
       "1          simpson strong tie   \n",
       "2  behr premium textur deckov   \n",
       "3                       delta   \n",
       "4                       delta   \n",
       "\n",
       "                                        product_info  len_of_search  \\\n",
       "0  angl bracket\\tsimpson strong tie 12 gaug angl\\...              2   \n",
       "1  l bracket\\tsimpson strong tie 12 gaug angl\\tno...              2   \n",
       "2  deck over\\tbehr premium textur deckov 1gal.   ...              2   \n",
       "3  rain shower head\\tdelta vero 1 handl shower on...              3   \n",
       "4  shower onli faucet\\tdelta vero 1 handl shower ...              3   \n",
       "\n",
       "   len_of_title  len_of_description  len_of_brand  \n",
       "0             6                 128             3  \n",
       "1             6                 128             3  \n",
       "2            11                 161             4  \n",
       "3            13                 108             1  \n",
       "4            13                 108             1  "
      ]
     },
     "execution_count": 39,
     "metadata": {},
     "output_type": "execute_result"
    }
   ],
   "source": [
    "df_clean.head()"
   ]
  },
  {
   "cell_type": "code",
   "execution_count": 40,
   "id": "fc3b7224",
   "metadata": {
    "execution": {
     "iopub.execute_input": "2022-01-08T04:46:17.217819Z",
     "iopub.status.busy": "2022-01-08T04:46:17.217129Z",
     "iopub.status.idle": "2022-01-08T04:46:17.221489Z",
     "shell.execute_reply": "2022-01-08T04:46:17.222076Z",
     "shell.execute_reply.started": "2022-01-08T03:18:13.108027Z"
    },
    "papermill": {
     "duration": 0.097915,
     "end_time": "2022-01-08T04:46:17.222264",
     "exception": false,
     "start_time": "2022-01-08T04:46:17.124349",
     "status": "completed"
    },
    "tags": []
   },
   "outputs": [],
   "source": [
    "def str_common_word(str1, str2):\n",
    "    words, cnt = str1.split(), 0\n",
    "    for word in words:\n",
    "        if str2.find(word)>=0:\n",
    "            cnt+=1\n",
    "    return cnt"
   ]
  },
  {
   "cell_type": "markdown",
   "id": "2a3df323",
   "metadata": {
    "papermill": {
     "duration": 0.090717,
     "end_time": "2022-01-08T04:46:17.402422",
     "exception": false,
     "start_time": "2022-01-08T04:46:17.311705",
     "status": "completed"
    },
    "tags": []
   },
   "source": [
    "# Numeric feature:\n",
    "Đếm số từ trong các trường xuất hiện trong cụm từ tìm kiếm -> mối tương quan giữa cụm từ tìm kiếm và các cột trong tập dữ liệu"
   ]
  },
  {
   "cell_type": "code",
   "execution_count": 41,
   "id": "3f92a8f4",
   "metadata": {
    "execution": {
     "iopub.execute_input": "2022-01-08T04:46:17.584272Z",
     "iopub.status.busy": "2022-01-08T04:46:17.583570Z",
     "iopub.status.idle": "2022-01-08T04:46:21.232562Z",
     "shell.execute_reply": "2022-01-08T04:46:21.231930Z",
     "shell.execute_reply.started": "2022-01-08T03:18:13.120433Z"
    },
    "papermill": {
     "duration": 3.740858,
     "end_time": "2022-01-08T04:46:21.232725",
     "exception": false,
     "start_time": "2022-01-08T04:46:17.491867",
     "status": "completed"
    },
    "tags": []
   },
   "outputs": [],
   "source": [
    "#đếm số lần từ cuối cùng trong tiêu đề xuất hiện trong cụm từ tìm kiếm\n",
    "df_clean['last_word_in_title'] = df_clean['product_info'].map(lambda x:str_common_word(x.split('\\t')[0].split(\" \")[-1],x.split('\\t')[1]))\n",
    "#đếm số lần từ cuối cùng trong product_description xuất hiện trong cụm từ tìm kiếm\n",
    "df_clean['last_word_in_description'] = df_clean['product_info'].map(lambda x:str_common_word(x.split('\\t')[0].split(\" \")[-1],x.split('\\t')[2]))\n",
    "#đếm số lần mỗi từ trong product_info xuất hiện trong cụm từ tìm kiếm\n",
    "df_clean['word_in_title'] = df_clean['product_info'].map(lambda x:str_common_word(x.split('\\t')[0],x.split('\\t')[1]))\n",
    "#đếm số lần mỗi từ trong product_description xuất hiện trong cụm từ tìm kiếm\n",
    "df_clean['word_in_description'] = df_clean['product_info'].map(lambda x:str_common_word(x.split('\\t')[0],x.split('\\t')[2]))"
   ]
  },
  {
   "cell_type": "code",
   "execution_count": 42,
   "id": "411eee9a",
   "metadata": {
    "execution": {
     "iopub.execute_input": "2022-01-08T04:46:21.419792Z",
     "iopub.status.busy": "2022-01-08T04:46:21.418794Z",
     "iopub.status.idle": "2022-01-08T04:46:21.421094Z",
     "shell.execute_reply": "2022-01-08T04:46:21.421615Z",
     "shell.execute_reply.started": "2022-01-08T03:18:16.884405Z"
    },
    "papermill": {
     "duration": 0.098773,
     "end_time": "2022-01-08T04:46:21.421804",
     "exception": false,
     "start_time": "2022-01-08T04:46:21.323031",
     "status": "completed"
    },
    "tags": []
   },
   "outputs": [],
   "source": [
    "#đếm số lần mỗi từ trong chuỗi1 xuất hiện trong chuỗi2\n",
    "def str_whole_word(str1, str2, i_):\n",
    "    cnt = 0\n",
    "    while i_ < len(str2):\n",
    "        i_ = str2.find(str1, i_)\n",
    "        if i_ == -1:\n",
    "            return cnt\n",
    "        else:\n",
    "            cnt += 1\n",
    "            i_ += len(str1)\n",
    "    return cnt"
   ]
  },
  {
   "cell_type": "code",
   "execution_count": 43,
   "id": "833fecea",
   "metadata": {
    "execution": {
     "iopub.execute_input": "2022-01-08T04:46:21.607070Z",
     "iopub.status.busy": "2022-01-08T04:46:21.606376Z",
     "iopub.status.idle": "2022-01-08T04:46:23.305754Z",
     "shell.execute_reply": "2022-01-08T04:46:23.305181Z",
     "shell.execute_reply.started": "2022-01-08T03:18:16.892774Z"
    },
    "papermill": {
     "duration": 1.794269,
     "end_time": "2022-01-08T04:46:23.305904",
     "exception": false,
     "start_time": "2022-01-08T04:46:21.511635",
     "status": "completed"
    },
    "tags": []
   },
   "outputs": [],
   "source": [
    "df_clean['query_in_title'] = df_clean['product_info'].map(lambda x:str_whole_word(x.split('\\t')[0],x.split('\\t')[1],0))\n",
    "df_clean['query_in_description'] = df_clean['product_info'].map(lambda x:str_whole_word(x.split('\\t')[0],x.split('\\t')[2],0))"
   ]
  },
  {
   "cell_type": "markdown",
   "id": "6fd08e40",
   "metadata": {
    "papermill": {
     "duration": 0.09033,
     "end_time": "2022-01-08T04:46:23.486637",
     "exception": false,
     "start_time": "2022-01-08T04:46:23.396307",
     "status": "completed"
    },
    "tags": []
   },
   "source": [
    "**Tính toán tỷ lệ**"
   ]
  },
  {
   "cell_type": "code",
   "execution_count": 44,
   "id": "5c0c2d44",
   "metadata": {
    "execution": {
     "iopub.execute_input": "2022-01-08T04:46:23.672288Z",
     "iopub.status.busy": "2022-01-08T04:46:23.671582Z",
     "iopub.status.idle": "2022-01-08T04:46:24.337636Z",
     "shell.execute_reply": "2022-01-08T04:46:24.338385Z",
     "shell.execute_reply.started": "2022-01-08T03:18:18.532509Z"
    },
    "papermill": {
     "duration": 0.761449,
     "end_time": "2022-01-08T04:46:24.338578",
     "exception": false,
     "start_time": "2022-01-08T04:46:23.577129",
     "status": "completed"
    },
    "tags": []
   },
   "outputs": [],
   "source": [
    "df_clean['ratio_title'] = df_clean['word_in_title']/df_clean['len_of_search']\n",
    "df_clean['ratio_description'] = df_clean['word_in_description']/df_clean['len_of_search']\n",
    "df_clean['attr'] = df_clean['search_term']+\"\\t\"+df_clean['brand']\n",
    "df_clean['word_in_brand'] = df_clean['attr'].map(lambda x:str_common_word(x.split('\\t')[0],x.split('\\t')[1]))\n",
    "df_clean['ratio_brand'] = df_clean['word_in_brand']/df_clean['len_of_brand']"
   ]
  },
  {
   "attachments": {
    "bbfa30cf-b9e9-4b4f-a0ab-5cf3114c0b9a.png": {
     "image/png": "[encoded data removed]"
    }
   },
   "cell_type": "markdown",
   "id": "8cd229a1",
   "metadata": {
    "papermill": {
     "duration": 0.089346,
     "end_time": "2022-01-08T04:46:24.518416",
     "exception": false,
     "start_time": "2022-01-08T04:46:24.429070",
     "status": "completed"
    },
    "tags": []
   },
   "source": [
    "# String similarity feature\n",
    "**Giải thuật Jaccard similiraty:**\n",
    "\n",
    "Giải thuật Chỉ mục Jaccard, hay còn gọi là giải thuật tỉ lệ giữa phần giao và phần hợp của 2 tập hợp, là 1 giải thuật được đưa ra bởi nhà Toán học Pháp Paul Jaccard. Công thức:\n",
    "\n",
    "![image.png](attachment:bbfa30cf-b9e9-4b4f-a0ab-5cf3114c0b9a.png)\n",
    "\n",
    "Đây là thước đo mức độ giống nhau của hai tập dữ liệu, với phạm vi từ 0% đến 100%. Tỷ lệ phần trăm càng cao thì hai tập càng giống nhau"
   ]
  },
  {
   "cell_type": "code",
   "execution_count": 45,
   "id": "e41977e8",
   "metadata": {
    "execution": {
     "iopub.execute_input": "2022-01-08T04:46:24.703404Z",
     "iopub.status.busy": "2022-01-08T04:46:24.702751Z",
     "iopub.status.idle": "2022-01-08T04:46:34.637297Z",
     "shell.execute_reply": "2022-01-08T04:46:34.635997Z",
     "shell.execute_reply.started": "2022-01-08T03:18:19.198714Z"
    },
    "papermill": {
     "duration": 10.029987,
     "end_time": "2022-01-08T04:46:34.637458",
     "exception": false,
     "start_time": "2022-01-08T04:46:24.607471",
     "status": "completed"
    },
    "tags": []
   },
   "outputs": [
    {
     "name": "stdout",
     "output_type": "stream",
     "text": [
      "Collecting textdistance\r\n",
      "  Downloading textdistance-4.2.2-py3-none-any.whl (28 kB)\r\n",
      "Installing collected packages: textdistance\r\n",
      "Successfully installed textdistance-4.2.2\r\n",
      "\u001b[33mWARNING: Running pip as the 'root' user can result in broken permissions and conflicting behaviour with the system package manager. It is recommended to use a virtual environment instead: https://pip.pypa.io/warnings/venv\u001b[0m\r\n"
     ]
    }
   ],
   "source": [
    "#Load thư viện để so sánh khoảng cách giữa hai hoặc nhiều chuỗi bằng nhiều thuật toán\n",
    "!pip install textdistance"
   ]
  },
  {
   "cell_type": "code",
   "execution_count": 46,
   "id": "518c708d",
   "metadata": {
    "execution": {
     "iopub.execute_input": "2022-01-08T04:46:34.830615Z",
     "iopub.status.busy": "2022-01-08T04:46:34.829923Z",
     "iopub.status.idle": "2022-01-08T04:47:06.641067Z",
     "shell.execute_reply": "2022-01-08T04:47:06.640464Z",
     "shell.execute_reply.started": "2022-01-08T03:18:27.932541Z"
    },
    "papermill": {
     "duration": 31.911865,
     "end_time": "2022-01-08T04:47:06.641232",
     "exception": false,
     "start_time": "2022-01-08T04:46:34.729367",
     "status": "completed"
    },
    "tags": []
   },
   "outputs": [],
   "source": [
    "import textdistance\n",
    "df_clean['jaccard_sim_desc'] = df_clean['product_info'].map(lambda x:textdistance.jaccard(x.split('\\t')[0],x.split('\\t')[2]))\n",
    "df_clean['jaccard_sim_title'] = df_clean['product_info'].map(lambda x:textdistance.jaccard(x.split('\\t')[0],x.split('\\t')[1]))"
   ]
  },
  {
   "cell_type": "markdown",
   "id": "a0e3c15d",
   "metadata": {
    "papermill": {
     "duration": 0.090981,
     "end_time": "2022-01-08T04:47:06.824776",
     "exception": false,
     "start_time": "2022-01-08T04:47:06.733795",
     "status": "completed"
    },
    "tags": []
   },
   "source": [
    "# Levenshtein distance\n",
    "Khoảng cách Levenshtein thể hiện khoảng cách khác biệt giữa 2 chuỗi ký tự, là số bước ít nhất biến chuỗi thứ nhất thành chuỗi thứ 2 thông qua 3 phép biến đổi là:\n",
    "* xoá 1 ký tự.\n",
    "* thêm 1 ký tự.\n",
    "* thay ký tự này bằng ký tự khác.\n",
    "\n",
    "Khoảng cách Levenshtein bằng 0 có nghĩa là: cả hai chuỗi đều bằng nhau"
   ]
  },
  {
   "cell_type": "code",
   "execution_count": 47,
   "id": "93e34495",
   "metadata": {
    "execution": {
     "iopub.execute_input": "2022-01-08T04:47:07.025634Z",
     "iopub.status.busy": "2022-01-08T04:47:07.024778Z",
     "iopub.status.idle": "2022-01-08T04:47:21.138501Z",
     "shell.execute_reply": "2022-01-08T04:47:21.137914Z",
     "shell.execute_reply.started": "2022-01-08T03:18:59.451636Z"
    },
    "papermill": {
     "duration": 14.219005,
     "end_time": "2022-01-08T04:47:21.138718",
     "exception": false,
     "start_time": "2022-01-08T04:47:06.919713",
     "status": "completed"
    },
    "tags": []
   },
   "outputs": [],
   "source": [
    "df_clean['levenshtein_sim_desc'] = df_clean['product_info'].map(lambda x:textdistance.levenshtein(x.split('\\t')[0],x.split('\\t')[2]))\n",
    "df_clean['levenshtein_sim_title'] = df_clean['product_info'].map(lambda x:textdistance.levenshtein(x.split('\\t')[0],x.split('\\t')[1]))"
   ]
  },
  {
   "cell_type": "code",
   "execution_count": 48,
   "id": "4d170626",
   "metadata": {
    "execution": {
     "iopub.execute_input": "2022-01-08T04:47:21.332881Z",
     "iopub.status.busy": "2022-01-08T04:47:21.332208Z",
     "iopub.status.idle": "2022-01-08T04:48:15.499412Z",
     "shell.execute_reply": "2022-01-08T04:48:15.498842Z",
     "shell.execute_reply.started": "2022-01-08T03:19:13.662483Z"
    },
    "papermill": {
     "duration": 54.270178,
     "end_time": "2022-01-08T04:48:15.499555",
     "exception": false,
     "start_time": "2022-01-08T04:47:21.229377",
     "status": "completed"
    },
    "tags": []
   },
   "outputs": [],
   "source": [
    "df_clean['mra_sim_desc'] = df_clean['product_info'].map(lambda x:textdistance.mra(x.split('\\t')[0],x.split('\\t')[2]))\n",
    "df_clean['mra_sim_title'] = df_clean['product_info'].map(lambda x:textdistance.mra(x.split('\\t')[0],x.split('\\t')[1]))"
   ]
  },
  {
   "cell_type": "code",
   "execution_count": 49,
   "id": "4e372942",
   "metadata": {
    "execution": {
     "iopub.execute_input": "2022-01-08T04:48:15.705680Z",
     "iopub.status.busy": "2022-01-08T04:48:15.704994Z",
     "iopub.status.idle": "2022-01-08T04:48:16.062938Z",
     "shell.execute_reply": "2022-01-08T04:48:16.063458Z",
     "shell.execute_reply.started": "2022-01-08T03:20:08.190929Z"
    },
    "papermill": {
     "duration": 0.4733,
     "end_time": "2022-01-08T04:48:16.063679",
     "exception": false,
     "start_time": "2022-01-08T04:48:15.590379",
     "status": "completed"
    },
    "tags": []
   },
   "outputs": [],
   "source": [
    "df_brand = pd.unique(df_clean.brand.ravel())\n",
    "d={}\n",
    "i = 1000\n",
    "for s in df_brand:\n",
    "    d[s]=i\n",
    "    i+=3\n",
    "df_clean['brand_feature'] = df_clean['brand'].map(lambda x:d[x])\n",
    "df_clean['search_term_feature'] = df_clean['search_term'].map(lambda x:len(x))"
   ]
  },
  {
   "cell_type": "code",
   "execution_count": 50,
   "id": "422ca52a",
   "metadata": {
    "execution": {
     "iopub.execute_input": "2022-01-08T04:48:16.249797Z",
     "iopub.status.busy": "2022-01-08T04:48:16.247294Z",
     "iopub.status.idle": "2022-01-08T04:48:43.230326Z",
     "shell.execute_reply": "2022-01-08T04:48:43.229749Z",
     "shell.execute_reply.started": "2022-01-08T03:20:08.572057Z"
    },
    "papermill": {
     "duration": 27.076036,
     "end_time": "2022-01-08T04:48:43.230471",
     "exception": false,
     "start_time": "2022-01-08T04:48:16.154435",
     "status": "completed"
    },
    "tags": []
   },
   "outputs": [],
   "source": [
    "from nltk.corpus import brown\n",
    "import gensim\n",
    "embed_model = gensim.models.Word2Vec(brown.sents())\n",
    "embed_model.save('brown.embedding')\n",
    "model = gensim.models.Word2Vec.load('brown.embedding')"
   ]
  },
  {
   "cell_type": "code",
   "execution_count": 51,
   "id": "464116a4",
   "metadata": {
    "execution": {
     "iopub.execute_input": "2022-01-08T04:48:43.417079Z",
     "iopub.status.busy": "2022-01-08T04:48:43.416377Z",
     "iopub.status.idle": "2022-01-08T04:48:43.422443Z",
     "shell.execute_reply": "2022-01-08T04:48:43.422960Z",
     "shell.execute_reply.started": "2022-01-08T03:20:35.649426Z"
    },
    "papermill": {
     "duration": 0.101723,
     "end_time": "2022-01-08T04:48:43.423146",
     "exception": false,
     "start_time": "2022-01-08T04:48:43.321423",
     "status": "completed"
    },
    "tags": []
   },
   "outputs": [],
   "source": [
    "def embedding_sim_cal(s, t, i):\n",
    "    _sum = 0\n",
    "    avg = 0\n",
    "    if len(s.split()) == 0 :\n",
    "        return 0\n",
    "    for s_word in s.split():\n",
    "        _max = 0\n",
    "        for t_word in t.split():\n",
    "            if ((s_word in model.wv) and (t_word in model.wv)):\n",
    "                _max = max(_max, model.wv.similarity(s_word, t_word))\n",
    "        _sum += _max\n",
    "    avg = _sum/ len(s.split())\n",
    "    return avg"
   ]
  },
  {
   "attachments": {
    "1ff29846-16ab-40ab-b030-54ec3f8a76f8.png": {
     "image/png": "[encoded data removed]"
    }
   },
   "cell_type": "markdown",
   "id": "cb1af508",
   "metadata": {
    "papermill": {
     "duration": 0.090619,
     "end_time": "2022-01-08T04:48:43.604436",
     "exception": false,
     "start_time": "2022-01-08T04:48:43.513817",
     "status": "completed"
    },
    "tags": []
   },
   "source": [
    "# Word embedding feature\n",
    "Word Embedding là tên gọi chung của các mô hình ngôn ngữ và các phương pháp học theo đặc trưng trong Xử lý ngôn ngữ tự nhiên(NLP), ở đó các từ hoặc cụm từ được ánh xạ sang các vector số (thường là số thực) Word2vec là một trong những kỹ thuật phổ biến nhất để học cách nhúng từ bằng cách sử dụng mạng nơ-ron hai lớp. Đầu vào của nó là một kho văn bản và đầu ra của nó là một tập hợp các vectơ. Nhúng từ thông qua word2vec có thể làm cho máy tính có thể đọc được ngôn ngữ tự nhiên, sau đó có thể sử dụng thêm việc triển khai các phép toán trên các từ để phát hiện các điểm tương đồng của chúng. Một tập hợp các vectơ từ được đào tạo tốt sẽ đặt các từ tương tự gần nhau trong không gian đó \n",
    "\n",
    "![image.png](attachment:1ff29846-16ab-40ab-b030-54ec3f8a76f8.png)\n",
    "\n",
    "Có 2 thuật toán huấn luyện chính cho word2vec là CBOW và Skip-gram Thư viện Gensim Python Gensim là một thư viện python mã nguồn mở để xử lý ngôn ngữ tự nhiên. Thư viện Gensim sẽ cho phép phát triển Word embedding feature bằng cách đào tạo các mô hình word2vec của riêng chúng ta trên kho dữ liệu tùy chỉnh với CBOW của thuật toán skip-grams."
   ]
  },
  {
   "cell_type": "code",
   "execution_count": 52,
   "id": "2e70c1e4",
   "metadata": {
    "execution": {
     "iopub.execute_input": "2022-01-08T04:48:43.789587Z",
     "iopub.status.busy": "2022-01-08T04:48:43.788968Z",
     "iopub.status.idle": "2022-01-08T05:03:27.221570Z",
     "shell.execute_reply": "2022-01-08T05:03:27.220854Z",
     "shell.execute_reply.started": "2022-01-08T03:20:35.659060Z"
    },
    "papermill": {
     "duration": 883.525911,
     "end_time": "2022-01-08T05:03:27.221768",
     "exception": false,
     "start_time": "2022-01-08T04:48:43.695857",
     "status": "completed"
    },
    "tags": []
   },
   "outputs": [],
   "source": [
    "df_clean['word_ebed_similarity'] = df_clean['product_info'].map(lambda x:embedding_sim_cal(x.split('\\t')[0],x.split('\\t')[2],0))\n",
    "df_clean.to_csv('df_final.csv')"
   ]
  },
  {
   "attachments": {
    "35c8534a-d69f-4836-ac62-4ff5a9e8312a.png": {
     "image/png": "[encoded data removed]"
    },
    "4f987061-1118-49a2-b7d6-4f580cbca711.png": {
     "image/png": "[encoded data removed]"
    },
    "55fc5b5b-df38-4e2f-8893-d6ad710812a2.png": {
     "image/png": "[encoded data removed]"
    }
   },
   "cell_type": "markdown",
   "id": "61fda016",
   "metadata": {
    "papermill": {
     "duration": 0.090979,
     "end_time": "2022-01-08T05:03:27.406248",
     "exception": false,
     "start_time": "2022-01-08T05:03:27.315269",
     "status": "completed"
    },
    "tags": []
   },
   "source": [
    "# TF-IDF similarity measure feature\n",
    "TF-IDF là viết tắt của “Term Frequency — Inverse Document Frequency” . Đây là một kỹ thuật để định lượng các từ trong một bộ tài liệu. Phương pháp này là một kỹ thuật được sử dụng rộng rãi trong Truy xuất Thông tin và Khai thác Văn bản. Các biến thể của lược đồ trọng số tf-idf thường được các công cụ tìm kiếm sử dụng để chấm điểm và xếp hạng mức độ liên quan của tài liệu khi đưa ra một truy vấn. Trọng số này là một thước đo thống kê được sử dụng để đánh giá mức độ quan trọng của một từ đối với một tài liệu trong một bộ sưu tập hoặc kho ngữ liệu. Mức độ quan trọng tăng tương ứng với số lần một từ xuất hiện trong tài liệu nhưng được bù đắp bởi tần suất xuất hiện của từ đó trong kho ngữ liệu (tập dữ liệu).TF-IDF có thể được tính theo công thức sau:\n",
    "\n",
    "![image.png](attachment:35c8534a-d69f-4836-ac62-4ff5a9e8312a.png)\n",
    "\n",
    "Term Frequency: đo tần suất xuất hiện của một từ trong tài liệu. Điều này phụ thuộc nhiều vào độ dài của tài liệu và tính tổng quát của từ\n",
    "![image.png](attachment:55fc5b5b-df38-4e2f-8893-d6ad710812a2.png)\n",
    "\n",
    "Document Frequency: đo lường tầm quan trọng của các tài liệu trong toàn bộ tập hợp ngữ liệu\n",
    "![image.png](attachment:4f987061-1118-49a2-b7d6-4f580cbca711.png)"
   ]
  },
  {
   "cell_type": "code",
   "execution_count": 53,
   "id": "07097550",
   "metadata": {
    "execution": {
     "iopub.execute_input": "2022-01-08T05:03:27.607933Z",
     "iopub.status.busy": "2022-01-08T05:03:27.606941Z",
     "iopub.status.idle": "2022-01-08T05:06:30.086403Z",
     "shell.execute_reply": "2022-01-08T05:06:30.085792Z",
     "shell.execute_reply.started": "2022-01-08T03:37:40.796425Z"
    },
    "papermill": {
     "duration": 182.589548,
     "end_time": "2022-01-08T05:06:30.086610",
     "exception": false,
     "start_time": "2022-01-08T05:03:27.497062",
     "status": "completed"
    },
    "tags": []
   },
   "outputs": [],
   "source": [
    "from sklearn.feature_extraction.text import TfidfVectorizer, CountVectorizer\n",
    "tfidf = TfidfVectorizer(analyzer='char_wb', ngram_range = (3,3), max_features = 1500)\n",
    "tfidf_des = tfidf.fit_transform(df_clean.product_description).toarray()\n",
    "tfidf_search = tfidf.transform(df_clean.search_term).toarray()\n",
    "tfidf = TfidfVectorizer(ngram_range=(1, 1), stop_words='english')"
   ]
  },
  {
   "attachments": {
    "5d4cb905-2d62-4cf8-bf7e-9376b0d11fb1.png": {
     "image/png": "[encoded data removed]"
    }
   },
   "cell_type": "markdown",
   "id": "cae73ad5",
   "metadata": {
    "papermill": {
     "duration": 0.092213,
     "end_time": "2022-01-08T05:06:30.276062",
     "exception": false,
     "start_time": "2022-01-08T05:06:30.183849",
     "status": "completed"
    },
    "tags": []
   },
   "source": [
    "# Modeling\n",
    "**Loss function: RMSE**\n",
    "\n",
    "Là hàm lỗi bình phương trung bình gốc. Nó đo độ lớn trung bình của các sai số và quan tâm đến độ lệch so với giá trị thực tế\n",
    "Công thức:\n",
    "![image.png](attachment:5d4cb905-2d62-4cf8-bf7e-9376b0d11fb1.png)\n",
    "Giá trị RMSE bằng 0 chỉ ra rằng mô hình có sự phù hợp hoàn hảo. RMSE càng thấp, mô hình càng tốt và các dự đoán của nó. RMSE cao hơn chỉ ra rằng có một độ lệch lớn từ giá trị còn lại đến chân lý cơ bản. RMSE có thể được sử dụng với các tính năng khác nhau vì nó giúp tìm ra liệu tính năng có cải thiện dự đoán của mô hình hay không"
   ]
  },
  {
   "cell_type": "code",
   "execution_count": 54,
   "id": "8b877df2",
   "metadata": {
    "execution": {
     "iopub.execute_input": "2022-01-08T05:06:30.568766Z",
     "iopub.status.busy": "2022-01-08T05:06:30.565985Z",
     "iopub.status.idle": "2022-01-08T05:06:30.570970Z",
     "shell.execute_reply": "2022-01-08T05:06:30.571461Z",
     "shell.execute_reply.started": "2022-01-08T03:41:10.372163Z"
    },
    "papermill": {
     "duration": 0.10011,
     "end_time": "2022-01-08T05:06:30.571644",
     "exception": false,
     "start_time": "2022-01-08T05:06:30.471534",
     "status": "completed"
    },
    "tags": []
   },
   "outputs": [],
   "source": [
    "def fmean_squared_error(ground_truth, predictions):\n",
    "    fmean_squared_error_ = mean_squared_error(ground_truth, predictions)**0.5\n",
    "    return fmean_squared_error_\n",
    "\n",
    "RMSE  = make_scorer(fmean_squared_error, greater_is_better=False)"
   ]
  },
  {
   "cell_type": "code",
   "execution_count": 55,
   "id": "a0cd84ac",
   "metadata": {
    "execution": {
     "iopub.execute_input": "2022-01-08T05:06:30.766296Z",
     "iopub.status.busy": "2022-01-08T05:06:30.765378Z",
     "iopub.status.idle": "2022-01-08T05:06:30.767528Z",
     "shell.execute_reply": "2022-01-08T05:06:30.768032Z",
     "shell.execute_reply.started": "2022-01-08T03:41:13.658172Z"
    },
    "papermill": {
     "duration": 0.103589,
     "end_time": "2022-01-08T05:06:30.768206",
     "exception": false,
     "start_time": "2022-01-08T05:06:30.664617",
     "status": "completed"
    },
    "tags": []
   },
   "outputs": [],
   "source": [
    "class custom_regression_vals(BaseEstimator, TransformerMixin):\n",
    "    def fit(self, x, y=None):\n",
    "        return self\n",
    "    def transform(self, hd_searches):\n",
    "        d_col_drops=['id','relevance','search_term','product_title','product_description','product_info','attr','brand']\n",
    "        hd_searches = hd_searches.drop(d_col_drops,axis=1).values\n",
    "        return hd_searches\n",
    "class custom_txt_col(BaseEstimator, TransformerMixin):\n",
    "    def __init__(self, key):\n",
    "        self.key = key\n",
    "    def fit(self, x, y=None):\n",
    "        return self\n",
    "    def transform(self, data_dict):\n",
    "        return data_dict[self.key].apply(str)"
   ]
  },
  {
   "cell_type": "code",
   "execution_count": 56,
   "id": "f5e6bca3",
   "metadata": {
    "execution": {
     "iopub.execute_input": "2022-01-08T05:06:30.957631Z",
     "iopub.status.busy": "2022-01-08T05:06:30.956615Z",
     "iopub.status.idle": "2022-01-08T05:06:30.963299Z",
     "shell.execute_reply": "2022-01-08T05:06:30.963804Z",
     "shell.execute_reply.started": "2022-01-08T03:41:17.449917Z"
    },
    "papermill": {
     "duration": 0.103389,
     "end_time": "2022-01-08T05:06:30.963983",
     "exception": false,
     "start_time": "2022-01-08T05:06:30.860594",
     "status": "completed"
    },
    "tags": []
   },
   "outputs": [],
   "source": [
    "df_train = df_clean.iloc[:num_train]\n",
    "df_test = df_clean.iloc[num_train:]\n",
    "id_test = df_test['id']\n",
    "y_train = df_train['relevance'].values\n",
    "X_train = df_train[:]\n",
    "X_test = df_test[:]"
   ]
  },
  {
   "attachments": {
    "4d3c2f98-c9b4-4628-9777-da5b15f089cc.png": {
     "image/png": "[encoded data removed]"
    }
   },
   "cell_type": "markdown",
   "id": "324c0dd6",
   "metadata": {
    "papermill": {
     "duration": 0.092488,
     "end_time": "2022-01-08T05:06:31.148623",
     "exception": false,
     "start_time": "2022-01-08T05:06:31.056135",
     "status": "completed"
    },
    "tags": []
   },
   "source": [
    "# RandomforestRegesssor\n",
    "**A random forest regressor.**\n",
    "là một kỹ thuật tổng hợp có khả năng thực hiện cả nhiệm vụ hồi quy và phân loại với việc sử dụng nhiều cây quyết định và một kỹ thuật gọi là Bootstrap and Aggregation, thường được gọi là bagging \n",
    "\n",
    "![image.png](attachment:4d3c2f98-c9b4-4628-9777-da5b15f089cc.png)\n",
    "\n",
    "Hyperparametters được sử dụng:\n",
    "* n_estimators: Số lượng cây trong rừng.\n",
    "* n_jobs: Số lượng công việc sẽ chạy song song.\n",
    "* random_state: Kiểm soát cả tính ngẫu nhiên của bootstrapping của các mẫu được sử dụng khi xây dựng cây (nếu bootstrap = True) và việc lấy mẫu các tính năng cần xem xét khi tìm kiếm sự phân tách tốt nhất tại mỗi nút (nếu max_features <n_features)\n",
    "* verbose: Kiểm soát độ dài khi điều chỉnh và dự đoán"
   ]
  },
  {
   "cell_type": "code",
   "execution_count": 57,
   "id": "ccec8b2d",
   "metadata": {
    "execution": {
     "iopub.execute_input": "2022-01-08T05:06:31.338377Z",
     "iopub.status.busy": "2022-01-08T05:06:31.337599Z",
     "iopub.status.idle": "2022-01-08T05:06:31.339002Z",
     "shell.execute_reply": "2022-01-08T05:06:31.339578Z",
     "shell.execute_reply.started": "2022-01-08T03:41:22.718368Z"
    },
    "papermill": {
     "duration": 0.100209,
     "end_time": "2022-01-08T05:06:31.339774",
     "exception": false,
     "start_time": "2022-01-08T05:06:31.239565",
     "status": "completed"
    },
    "tags": []
   },
   "outputs": [],
   "source": [
    "rfr = RandomForestRegressor(n_estimators = 530, n_jobs = -1, random_state = 2016, verbose = 1)"
   ]
  },
  {
   "cell_type": "code",
   "execution_count": 58,
   "id": "a989a94e",
   "metadata": {
    "execution": {
     "iopub.execute_input": "2022-01-08T05:06:31.526061Z",
     "iopub.status.busy": "2022-01-08T05:06:31.525382Z",
     "iopub.status.idle": "2022-01-08T05:06:31.529322Z",
     "shell.execute_reply": "2022-01-08T05:06:31.529883Z",
     "shell.execute_reply.started": "2022-01-08T03:41:26.333479Z"
    },
    "papermill": {
     "duration": 0.098611,
     "end_time": "2022-01-08T05:06:31.530069",
     "exception": false,
     "start_time": "2022-01-08T05:06:31.431458",
     "status": "completed"
    },
    "tags": []
   },
   "outputs": [],
   "source": [
    "from sklearn.ensemble import GradientBoostingRegressor\n",
    "gbr = GradientBoostingRegressor()"
   ]
  },
  {
   "cell_type": "markdown",
   "id": "838c04a6",
   "metadata": {
    "papermill": {
     "duration": 0.090627,
     "end_time": "2022-01-08T05:06:31.713510",
     "exception": false,
     "start_time": "2022-01-08T05:06:31.622883",
     "status": "completed"
    },
    "tags": []
   },
   "source": [
    "Dimensionality reduction Sử dụng phương pháp phân hủy giá trị kỳ dị cắt ngắn (SVD)để giảm kích thước"
   ]
  },
  {
   "cell_type": "code",
   "execution_count": 59,
   "id": "06715db3",
   "metadata": {
    "execution": {
     "iopub.execute_input": "2022-01-08T05:06:31.902053Z",
     "iopub.status.busy": "2022-01-08T05:06:31.901348Z",
     "iopub.status.idle": "2022-01-08T05:06:31.905047Z",
     "shell.execute_reply": "2022-01-08T05:06:31.905517Z",
     "shell.execute_reply.started": "2022-01-08T03:41:30.794018Z"
    },
    "papermill": {
     "duration": 0.098722,
     "end_time": "2022-01-08T05:06:31.905713",
     "exception": false,
     "start_time": "2022-01-08T05:06:31.806991",
     "status": "completed"
    },
    "tags": []
   },
   "outputs": [],
   "source": [
    "tsvd = TruncatedSVD(n_components=10, random_state = 2016)"
   ]
  },
  {
   "cell_type": "code",
   "execution_count": 60,
   "id": "b2722056",
   "metadata": {
    "execution": {
     "iopub.execute_input": "2022-01-08T05:06:32.101236Z",
     "iopub.status.busy": "2022-01-08T05:06:32.100529Z",
     "iopub.status.idle": "2022-01-08T05:06:32.102474Z",
     "shell.execute_reply": "2022-01-08T05:06:32.102924Z",
     "shell.execute_reply.started": "2022-01-08T03:41:33.285988Z"
    },
    "papermill": {
     "duration": 0.106255,
     "end_time": "2022-01-08T05:06:32.103105",
     "exception": false,
     "start_time": "2022-01-08T05:06:31.996850",
     "status": "completed"
    },
    "tags": []
   },
   "outputs": [],
   "source": [
    "clf = pipeline.Pipeline([\n",
    "        ('union', FeatureUnion(\n",
    "                    transformer_list = [\n",
    "                        ('cst',  custom_regression_vals()),  \n",
    "                        ('txt1', pipeline.Pipeline([('s1', custom_txt_col(key='search_term')), ('tfidf1', tfidf), ('tsvd1', tsvd)])),\n",
    "                        ('txt2', pipeline.Pipeline([('s2', custom_txt_col(key='product_title')), ('tfidf2', tfidf), ('tsvd2', tsvd)])),\n",
    "                        ('txt3', pipeline.Pipeline([('s3', custom_txt_col(key='product_description')), ('tfidf3', tfidf), ('tsvd3', tsvd)])),\n",
    "                        ('txt4', pipeline.Pipeline([('s4', custom_txt_col(key='brand')), ('tfidf4', tfidf), ('tsvd4', tsvd)]))],\n",
    "                    transformer_weights = {\n",
    "                        'cst': 1.0,\n",
    "                        'txt1': 0.5,\n",
    "                        'txt2': 0.25,\n",
    "                        'txt3': 0.01,\n",
    "                        'txt4': 0.5\n",
    "                        },\n",
    "                #n_jobs = -1\n",
    "                )), \n",
    "        ('rfr', rfr)])\n",
    "param_grid = {'rfr__max_features': [8], 'rfr__max_depth': [18]}"
   ]
  },
  {
   "cell_type": "markdown",
   "id": "1a76d554",
   "metadata": {
    "papermill": {
     "duration": 0.091486,
     "end_time": "2022-01-08T05:06:32.285762",
     "exception": false,
     "start_time": "2022-01-08T05:06:32.194276",
     "status": "completed"
    },
    "tags": []
   },
   "source": [
    "# GridSearchCV\n",
    "Là một hàm thư viện là một thành viên của gói model_selection của sklearn. Nó giúp lặp lại các siêu tham số được xác định trước và phù hợp với công cụ ước tính (mô hình) của bạn trên train. Vì vậy, cuối cùng, bạn có thể chọn các tham số tốt nhất từ các siêu tham số được liệt kê. Hyperparametters used:\n",
    "\n",
    "* estimator: đối tượng ước tính đang được sử dụng\n",
    "* param_grid: từ điển chứa tất cả các tham số để thử\n",
    "* scoring: số liệu đánh giá để sử dụng khi xếp hạng kết quả\n",
    "* cv: xác nhận chéo, số lần gấp cv cho mỗi tổ hợp các tham số"
   ]
  },
  {
   "cell_type": "code",
   "execution_count": 61,
   "id": "16634205",
   "metadata": {
    "execution": {
     "iopub.execute_input": "2022-01-08T05:06:32.495551Z",
     "iopub.status.busy": "2022-01-08T05:06:32.494906Z",
     "iopub.status.idle": "2022-01-08T05:10:27.963020Z",
     "shell.execute_reply": "2022-01-08T05:10:27.963647Z",
     "shell.execute_reply.started": "2022-01-08T03:41:39.529526Z"
    },
    "papermill": {
     "duration": 235.564586,
     "end_time": "2022-01-08T05:10:27.963875",
     "exception": false,
     "start_time": "2022-01-08T05:06:32.399289",
     "status": "completed"
    },
    "tags": []
   },
   "outputs": [
    {
     "name": "stdout",
     "output_type": "stream",
     "text": [
      "Fitting 2 folds for each of 1 candidates, totalling 2 fits\n"
     ]
    },
    {
     "name": "stderr",
     "output_type": "stream",
     "text": [
      "[Parallel(n_jobs=-1)]: Using backend LokyBackend with 4 concurrent workers.\n",
      "[Parallel(n_jobs=-1)]: Done   1 tasks      | elapsed:  2.0min\n",
      "[Parallel(n_jobs=-1)]: Done   2 out of   2 | elapsed:  2.0min remaining:    0.0s\n",
      "[Parallel(n_jobs=-1)]: Done   2 out of   2 | elapsed:  2.0min finished\n",
      "[Parallel(n_jobs=-1)]: Using backend ThreadingBackend with 4 concurrent workers.\n",
      "[Parallel(n_jobs=-1)]: Done  42 tasks      | elapsed:    8.1s\n",
      "[Parallel(n_jobs=-1)]: Done 192 tasks      | elapsed:   35.9s\n",
      "[Parallel(n_jobs=-1)]: Done 442 tasks      | elapsed:  1.4min\n",
      "[Parallel(n_jobs=-1)]: Done 530 out of 530 | elapsed:  1.6min finished\n"
     ]
    }
   ],
   "source": [
    "model = GridSearchCV(estimator = clf, param_grid = param_grid, n_jobs = -1, cv = 2, verbose = 20, scoring=RMSE)\n",
    "results=model.fit(X_train, y_train)"
   ]
  },
  {
   "cell_type": "code",
   "execution_count": 62,
   "id": "0fc35597",
   "metadata": {
    "execution": {
     "iopub.execute_input": "2022-01-08T05:10:28.162960Z",
     "iopub.status.busy": "2022-01-08T05:10:28.162241Z",
     "iopub.status.idle": "2022-01-08T05:10:28.165009Z",
     "shell.execute_reply": "2022-01-08T05:10:28.164431Z",
     "shell.execute_reply.started": "2022-01-08T03:49:33.381879Z"
    },
    "papermill": {
     "duration": 0.105603,
     "end_time": "2022-01-08T05:10:28.165161",
     "exception": false,
     "start_time": "2022-01-08T05:10:28.059558",
     "status": "completed"
    },
    "tags": []
   },
   "outputs": [],
   "source": [
    "def plot_scores_single(results, param, log=False):\n",
    "    X = [x[param] for x in results.cv_results_['params']]\n",
    "    if log:\n",
    "        X = [math.log10(a) for a in X]\n",
    "    plt.plot(X, -results.cv_results_['mean_train_score'])\n",
    "    plt.plot(X, -results.cv_results_['mean_test_score'])\n",
    "    plt.title('rmse')\n",
    "    plt.ylabel('rmse')\n",
    "    plt.xlabel(param)\n",
    "    plt.legend(['train', 'tets'], loc='lower left')\n",
    "    plt.show()"
   ]
  },
  {
   "cell_type": "code",
   "execution_count": 63,
   "id": "35b05e99",
   "metadata": {
    "execution": {
     "iopub.execute_input": "2022-01-08T05:10:28.358246Z",
     "iopub.status.busy": "2022-01-08T05:10:28.357538Z",
     "iopub.status.idle": "2022-01-08T05:10:28.360492Z",
     "shell.execute_reply": "2022-01-08T05:10:28.359998Z",
     "shell.execute_reply.started": "2022-01-08T03:52:53.518377Z"
    },
    "papermill": {
     "duration": 0.10233,
     "end_time": "2022-01-08T05:10:28.360636",
     "exception": false,
     "start_time": "2022-01-08T05:10:28.258306",
     "status": "completed"
    },
    "tags": []
   },
   "outputs": [],
   "source": [
    "# plot_scores_single(results, 'alpha', log=True)"
   ]
  },
  {
   "cell_type": "code",
   "execution_count": 64,
   "id": "3a7c35a4",
   "metadata": {
    "execution": {
     "iopub.execute_input": "2022-01-08T05:10:28.555234Z",
     "iopub.status.busy": "2022-01-08T05:10:28.554540Z",
     "iopub.status.idle": "2022-01-08T05:11:05.924534Z",
     "shell.execute_reply": "2022-01-08T05:11:05.923508Z",
     "shell.execute_reply.started": "2022-01-08T03:52:57.050520Z"
    },
    "papermill": {
     "duration": 37.470437,
     "end_time": "2022-01-08T05:11:05.924744",
     "exception": false,
     "start_time": "2022-01-08T05:10:28.454307",
     "status": "completed"
    },
    "tags": []
   },
   "outputs": [
    {
     "name": "stderr",
     "output_type": "stream",
     "text": [
      "[Parallel(n_jobs=4)]: Using backend ThreadingBackend with 4 concurrent workers.\n",
      "[Parallel(n_jobs=4)]: Done  42 tasks      | elapsed:    0.5s\n",
      "[Parallel(n_jobs=4)]: Done 192 tasks      | elapsed:    2.2s\n",
      "[Parallel(n_jobs=4)]: Done 442 tasks      | elapsed:    5.0s\n",
      "[Parallel(n_jobs=4)]: Done 530 out of 530 | elapsed:    6.0s finished\n"
     ]
    }
   ],
   "source": [
    "pd.DataFrame({\"id\": id_test, \"relevance\": model.predict(X_test)}).to_csv('submission.csv',index=False)"
   ]
  }
 ],
 "metadata": {
  "kernelspec": {
   "display_name": "Python 3",
   "language": "python",
   "name": "python3"
  },
  "language_info": {
   "codemirror_mode": {
    "name": "ipython",
    "version": 3
   },
   "file_extension": ".py",
   "mimetype": "text/x-python",
   "name": "python",
   "nbconvert_exporter": "python",
   "pygments_lexer": "ipython3",
   "version": "3.7.10"
  },
  "papermill": {
   "default_parameters": {},
   "duration": 4619.654161,
   "end_time": "2022-01-08T05:11:09.156782",
   "environment_variables": {},
   "exception": null,
   "input_path": "__notebook__.ipynb",
   "output_path": "__notebook__.ipynb",
   "parameters": {},
   "start_time": "2022-01-08T03:54:09.502621",
   "version": "2.3.3"
  }
 },
 "nbformat": 4,
 "nbformat_minor": 5
}
